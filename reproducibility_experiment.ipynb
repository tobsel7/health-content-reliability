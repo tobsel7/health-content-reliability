{
 "cells": [
  {
   "cell_type": "markdown",
   "id": "249152f8",
   "metadata": {},
   "source": [
    "# 1) Initialize the project setup"
   ]
  },
  {
   "cell_type": "markdown",
   "id": "1c93f52a",
   "metadata": {},
   "source": [
    "## 1.1) Install the python packages"
   ]
  },
  {
   "cell_type": "code",
   "execution_count": 1,
   "id": "61c4cd01",
   "metadata": {},
   "outputs": [
    {
     "name": "stdout",
     "output_type": "stream",
     "text": [
      "Defaulting to user installation because normal site-packages is not writeable\n",
      "Requirement already satisfied: bs4 in /home/tobsel/.local/lib/python3.10/site-packages (0.0.1)\n",
      "Requirement already satisfied: beautifulsoup4 in /home/tobsel/.local/lib/python3.10/site-packages (from bs4) (4.9.3)\n",
      "Requirement already satisfied: soupsieve>1.2 in /home/tobsel/.local/lib/python3.10/site-packages (from beautifulsoup4->bs4) (2.3.2.post1)\n",
      "Defaulting to user installation because normal site-packages is not writeable\n",
      "Requirement already satisfied: nltk in /home/tobsel/.local/lib/python3.10/site-packages (3.5)\n",
      "Requirement already satisfied: click in /usr/lib/python3/dist-packages (from nltk) (8.0.3)\n",
      "Requirement already satisfied: joblib in /home/tobsel/.local/lib/python3.10/site-packages (from nltk) (1.2.0)\n",
      "Requirement already satisfied: tqdm in /home/tobsel/.local/lib/python3.10/site-packages (from nltk) (4.64.1)\n",
      "Requirement already satisfied: regex in /home/tobsel/.local/lib/python3.10/site-packages (from nltk) (2022.10.31)\n",
      "Defaulting to user installation because normal site-packages is not writeable\n",
      "Requirement already satisfied: html5lib in /home/tobsel/.local/lib/python3.10/site-packages (1.1)\n",
      "Requirement already satisfied: six>=1.9 in /usr/lib/python3/dist-packages (from html5lib) (1.16.0)\n",
      "Requirement already satisfied: webencodings in /home/tobsel/.local/lib/python3.10/site-packages (from html5lib) (0.5.1)\n",
      "Defaulting to user installation because normal site-packages is not writeable\n",
      "Requirement already satisfied: pickle-mixin in /home/tobsel/.local/lib/python3.10/site-packages (1.0.2)\n",
      "Defaulting to user installation because normal site-packages is not writeable\n",
      "Collecting argparse\n",
      "  Using cached argparse-1.4.0-py2.py3-none-any.whl (23 kB)\n",
      "Installing collected packages: argparse\n",
      "Successfully installed argparse-1.4.0\n",
      "Defaulting to user installation because normal site-packages is not writeable\n",
      "Requirement already satisfied: numpy in /home/tobsel/.local/lib/python3.10/site-packages (1.23.4)\n",
      "Defaulting to user installation because normal site-packages is not writeable\n",
      "Requirement already satisfied: pandas in /home/tobsel/.local/lib/python3.10/site-packages (1.5.1)\n",
      "Requirement already satisfied: numpy>=1.21.0 in /home/tobsel/.local/lib/python3.10/site-packages (from pandas) (1.23.4)\n",
      "Requirement already satisfied: pytz>=2020.1 in /usr/lib/python3/dist-packages (from pandas) (2022.1)\n",
      "Requirement already satisfied: python-dateutil>=2.8.1 in /home/tobsel/.local/lib/python3.10/site-packages (from pandas) (2.8.2)\n",
      "Requirement already satisfied: six>=1.5 in /usr/lib/python3/dist-packages (from python-dateutil>=2.8.1->pandas) (1.16.0)\n",
      "Defaulting to user installation because normal site-packages is not writeable\n",
      "Requirement already satisfied: scikit-learn in /home/tobsel/.local/lib/python3.10/site-packages (1.1.3)\n",
      "Requirement already satisfied: joblib>=1.0.0 in /home/tobsel/.local/lib/python3.10/site-packages (from scikit-learn) (1.2.0)\n",
      "Requirement already satisfied: threadpoolctl>=2.0.0 in /home/tobsel/.local/lib/python3.10/site-packages (from scikit-learn) (3.1.0)\n",
      "Requirement already satisfied: numpy>=1.17.3 in /home/tobsel/.local/lib/python3.10/site-packages (from scikit-learn) (1.23.4)\n",
      "Requirement already satisfied: scipy>=1.3.2 in /home/tobsel/.local/lib/python3.10/site-packages (from scikit-learn) (1.9.3)\n",
      "Defaulting to user installation because normal site-packages is not writeable\n",
      "Requirement already satisfied: xlrd in /home/tobsel/.local/lib/python3.10/site-packages (1.2.0)\n",
      "Defaulting to user installation because normal site-packages is not writeable\n",
      "Requirement already satisfied: pathlib in /home/tobsel/.local/lib/python3.10/site-packages (1.0.1)\n",
      "Defaulting to user installation because normal site-packages is not writeable\n",
      "Requirement already satisfied: w3lib in /home/tobsel/.local/lib/python3.10/site-packages (1.21.0)\n",
      "Requirement already satisfied: six>=1.4.1 in /usr/lib/python3/dist-packages (from w3lib) (1.16.0)\n",
      "Defaulting to user installation because normal site-packages is not writeable\n",
      "Requirement already satisfied: svmlight in /usr/local/lib/python3.10/dist-packages (0.4)\n"
     ]
    }
   ],
   "source": [
    "!pip install bs4\n",
    "!pip install nltk \n",
    "!pip install html5lib\n",
    "!pip install pickle-mixin \n",
    "!pip install argparse \n",
    "!pip install numpy \n",
    "!pip install pandas \n",
    "!pip install scikit-learn \n",
    "!pip install xlrd\n",
    "!pip install pathlib \n",
    "!pip install w3lib\n",
    "!pip install svmlight"
   ]
  },
  {
   "cell_type": "markdown",
   "id": "700e2d66",
   "metadata": {},
   "source": [
    "## 1.2) Download the necessary tokenizers"
   ]
  },
  {
   "cell_type": "code",
   "execution_count": 3,
   "id": "c32e707a",
   "metadata": {},
   "outputs": [
    {
     "name": "stderr",
     "output_type": "stream",
     "text": [
      "[nltk_data] Downloading package punkt to /home/tobsel/nltk_data...\n",
      "[nltk_data]   Package punkt is already up-to-date!\n",
      "[nltk_data] Downloading package stopwords to /home/tobsel/nltk_data...\n",
      "[nltk_data]   Package stopwords is already up-to-date!\n"
     ]
    },
    {
     "data": {
      "text/plain": [
       "True"
      ]
     },
     "execution_count": 3,
     "metadata": {},
     "output_type": "execute_result"
    }
   ],
   "source": [
    "# import the packages\n",
    "import nltk\n",
    "# download the tokenizers\n",
    "nltk.download(\"punkt\")\n",
    "nltk.download(\"stopwords\")"
   ]
  },
  {
   "cell_type": "markdown",
   "id": "7a2b6be4",
   "metadata": {},
   "source": [
    "## 1.3) Import the training module"
   ]
  },
  {
   "cell_type": "code",
   "execution_count": 4,
   "id": "4ad9c6c5",
   "metadata": {},
   "outputs": [],
   "source": [
    "import sys  \n",
    "sys.path.append(\"./source\")\n",
    "\n",
    "import train"
   ]
  },
  {
   "cell_type": "markdown",
   "id": "393c03c3",
   "metadata": {},
   "source": [
    "## 1.4) Prepare the train.py file\n",
    "To be able to start the training process with different parameters, the train.py file was restructured. Basically the the outermost code was capsuled in the function run and parameterized."
   ]
  },
  {
   "cell_type": "markdown",
   "id": "d5000ae0",
   "metadata": {},
   "source": [
    "# 2) Run the experiment with some default settings"
   ]
  },
  {
   "cell_type": "code",
   "execution_count": 5,
   "id": "f72fd965",
   "metadata": {},
   "outputs": [
    {
     "name": "stdout",
     "output_type": "stream",
     "text": [
      "EXPERIMENT ID:  1671666016.9943871\n",
      "Training it= 1 cost-factor= 1\n",
      "Predicting it= 1 cost-factor= 1\n",
      "Training it= 2 cost-factor= 1\n",
      "Predicting it= 2 cost-factor= 1\n",
      "Training it= 3 cost-factor= 1\n",
      "Predicting it= 3 cost-factor= 1\n",
      "Training it= 4 cost-factor= 1\n",
      "Predicting it= 4 cost-factor= 1\n",
      "Training it= 5 cost-factor= 1\n",
      "Predicting it= 5 cost-factor= 1\n",
      "The accuracy is 73.61111111111111\n",
      "The f1-score is 0.7361111111111112\n",
      "The credible f1-score is 0.7102486894825606\n",
      "The non-credible f1-score is 0.7570346213646616\n",
      "Training it= 1 cost-factor= 2\n",
      "Predicting it= 1 cost-factor= 2\n",
      "Training it= 2 cost-factor= 2\n",
      "Predicting it= 2 cost-factor= 2\n",
      "Training it= 3 cost-factor= 2\n",
      "Predicting it= 3 cost-factor= 2\n",
      "Training it= 4 cost-factor= 2\n",
      "Predicting it= 4 cost-factor= 2\n",
      "Training it= 5 cost-factor= 2\n",
      "Predicting it= 5 cost-factor= 2\n",
      "The accuracy is 77.77777777777777\n",
      "The f1-score is 0.7305555555555555\n",
      "The credible f1-score is 0.6851582014419506\n",
      "The non-credible f1-score is 0.7633427783996861\n",
      "Training it= 1 cost-factor= 3\n",
      "Predicting it= 1 cost-factor= 3\n",
      "Training it= 2 cost-factor= 3\n",
      "Predicting it= 2 cost-factor= 3\n",
      "Training it= 3 cost-factor= 3\n",
      "Predicting it= 3 cost-factor= 3\n",
      "Training it= 4 cost-factor= 3\n",
      "Predicting it= 4 cost-factor= 3\n",
      "Training it= 5 cost-factor= 3\n",
      "Predicting it= 5 cost-factor= 3\n",
      "The accuracy is 77.36111111111111\n",
      "The f1-score is 0.586111111111111\n",
      "The credible f1-score is 0.28279964505009875\n",
      "The non-credible f1-score is 0.7023165319205709\n"
     ]
    }
   ],
   "source": [
    "train.start()"
   ]
  },
  {
   "cell_type": "markdown",
   "id": "62cde937",
   "metadata": {},
   "source": [
    "# 3) Reproduce different experiments"
   ]
  },
  {
   "cell_type": "markdown",
   "id": "9b339368",
   "metadata": {},
   "source": [
    "## Experiment parameters\n",
    "There exist three options for the dataset:\n",
    " - CLEF\n",
    " - Sondhi\n",
    " - Schwarz\n",
    " \n",
    "Different sets of features can be used:\n",
    " - link\n",
    " - comm \n",
    " - wordsRem\n",
    " - wordsKeep\n",
    " - allRem\n",
    " - allKeep\n",
    " \n",
    "The training can be done with and without saving the models in the ./models folder:\n",
    " - yes (with saving)\n",
    " - no (without saving)\n",
    " \n",
    "Standardization can be performed\n",
    " - True (with standardization)\n",
    " - False (without standardization)"
   ]
  },
  {
   "cell_type": "code",
   "execution_count": null,
   "id": "c59560cf",
   "metadata": {},
   "outputs": [],
   "source": [
    "# train parameters\n",
    "dataset = \"Sondhi\"\n",
    "features = \"comm\"\n",
    "dump = \"yes\" \n",
    "standard = True"
   ]
  },
  {
   "cell_type": "code",
   "execution_count": null,
   "id": "c5b84c3d",
   "metadata": {},
   "outputs": [],
   "source": [
    "# start of model training\n",
    "train.start(dataset, features, dump, standard)"
   ]
  }
 ],
 "metadata": {
  "kernelspec": {
   "display_name": "Python 3 (ipykernel)",
   "language": "python",
   "name": "python3"
  },
  "language_info": {
   "codemirror_mode": {
    "name": "ipython",
    "version": 3
   },
   "file_extension": ".py",
   "mimetype": "text/x-python",
   "name": "python",
   "nbconvert_exporter": "python",
   "pygments_lexer": "ipython3",
   "version": "3.10.6"
  }
 },
 "nbformat": 4,
 "nbformat_minor": 5
}
