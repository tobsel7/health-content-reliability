{
 "cells": [
  {
   "cell_type": "markdown",
   "id": "249152f8",
   "metadata": {},
   "source": [
    "# 1) Initialize the project setup"
   ]
  },
  {
   "cell_type": "markdown",
   "id": "1c93f52a",
   "metadata": {},
   "source": [
    "## 1.1) Install the python packages"
   ]
  },
  {
   "cell_type": "code",
   "execution_count": 1,
   "id": "61c4cd01",
   "metadata": {},
   "outputs": [
    {
     "name": "stdout",
     "output_type": "stream",
     "text": [
      "Defaulting to user installation because normal site-packages is not writeable\n",
      "Requirement already satisfied: bs4 in /home/tobsel/.local/lib/python3.10/site-packages (0.0.1)\n",
      "Requirement already satisfied: beautifulsoup4 in /home/tobsel/.local/lib/python3.10/site-packages (from bs4) (4.9.3)\n",
      "Requirement already satisfied: soupsieve>1.2 in /home/tobsel/.local/lib/python3.10/site-packages (from beautifulsoup4->bs4) (2.3.2.post1)\n",
      "Defaulting to user installation because normal site-packages is not writeable\n",
      "Requirement already satisfied: nltk in /home/tobsel/.local/lib/python3.10/site-packages (3.5)\n",
      "Requirement already satisfied: tqdm in /home/tobsel/.local/lib/python3.10/site-packages (from nltk) (4.64.1)\n",
      "Requirement already satisfied: joblib in /home/tobsel/.local/lib/python3.10/site-packages (from nltk) (1.2.0)\n",
      "Requirement already satisfied: regex in /home/tobsel/.local/lib/python3.10/site-packages (from nltk) (2022.10.31)\n",
      "Requirement already satisfied: click in /usr/lib/python3/dist-packages (from nltk) (8.0.3)\n",
      "Defaulting to user installation because normal site-packages is not writeable\n",
      "Requirement already satisfied: html5lib in /home/tobsel/.local/lib/python3.10/site-packages (1.1)\n",
      "Requirement already satisfied: six>=1.9 in /usr/lib/python3/dist-packages (from html5lib) (1.16.0)\n",
      "Requirement already satisfied: webencodings in /home/tobsel/.local/lib/python3.10/site-packages (from html5lib) (0.5.1)\n",
      "Defaulting to user installation because normal site-packages is not writeable\n",
      "Requirement already satisfied: pickle-mixin in /home/tobsel/.local/lib/python3.10/site-packages (1.0.2)\n",
      "Defaulting to user installation because normal site-packages is not writeable\n",
      "Collecting argparse\n",
      "  Using cached argparse-1.4.0-py2.py3-none-any.whl (23 kB)\n",
      "Installing collected packages: argparse\n",
      "Successfully installed argparse-1.4.0\n",
      "Defaulting to user installation because normal site-packages is not writeable\n",
      "Requirement already satisfied: numpy in /home/tobsel/.local/lib/python3.10/site-packages (1.23.4)\n",
      "Defaulting to user installation because normal site-packages is not writeable\n",
      "Requirement already satisfied: pandas in /home/tobsel/.local/lib/python3.10/site-packages (1.5.1)\n",
      "Requirement already satisfied: python-dateutil>=2.8.1 in /home/tobsel/.local/lib/python3.10/site-packages (from pandas) (2.8.2)\n",
      "Requirement already satisfied: pytz>=2020.1 in /usr/lib/python3/dist-packages (from pandas) (2022.1)\n",
      "Requirement already satisfied: numpy>=1.21.0 in /home/tobsel/.local/lib/python3.10/site-packages (from pandas) (1.23.4)\n",
      "Requirement already satisfied: six>=1.5 in /usr/lib/python3/dist-packages (from python-dateutil>=2.8.1->pandas) (1.16.0)\n",
      "Defaulting to user installation because normal site-packages is not writeable\n",
      "Requirement already satisfied: scikit-learn in /home/tobsel/.local/lib/python3.10/site-packages (1.1.3)\n",
      "Requirement already satisfied: numpy>=1.17.3 in /home/tobsel/.local/lib/python3.10/site-packages (from scikit-learn) (1.23.4)\n",
      "Requirement already satisfied: scipy>=1.3.2 in /home/tobsel/.local/lib/python3.10/site-packages (from scikit-learn) (1.9.3)\n",
      "Requirement already satisfied: joblib>=1.0.0 in /home/tobsel/.local/lib/python3.10/site-packages (from scikit-learn) (1.2.0)\n",
      "Requirement already satisfied: threadpoolctl>=2.0.0 in /home/tobsel/.local/lib/python3.10/site-packages (from scikit-learn) (3.1.0)\n",
      "Defaulting to user installation because normal site-packages is not writeable\n",
      "Requirement already satisfied: xlrd in /home/tobsel/.local/lib/python3.10/site-packages (1.2.0)\n",
      "Defaulting to user installation because normal site-packages is not writeable\n",
      "Requirement already satisfied: pathlib in /home/tobsel/.local/lib/python3.10/site-packages (1.0.1)\n",
      "Defaulting to user installation because normal site-packages is not writeable\n",
      "Requirement already satisfied: w3lib in /home/tobsel/.local/lib/python3.10/site-packages (1.21.0)\n",
      "Requirement already satisfied: six>=1.4.1 in /usr/lib/python3/dist-packages (from w3lib) (1.16.0)\n"
     ]
    }
   ],
   "source": [
    "!pip install bs4\n",
    "!pip install nltk \n",
    "!pip install html5lib\n",
    "!pip install pickle-mixin \n",
    "!pip install argparse \n",
    "!pip install numpy \n",
    "!pip install pandas \n",
    "!pip install scikit-learn \n",
    "!pip install xlrd\n",
    "!pip install pathlib \n",
    "!pip install w3lib"
   ]
  },
  {
   "cell_type": "markdown",
   "id": "700e2d66",
   "metadata": {},
   "source": [
    "## 1.2) Download the necessary tokenizers"
   ]
  },
  {
   "cell_type": "code",
   "execution_count": 2,
   "id": "c32e707a",
   "metadata": {},
   "outputs": [
    {
     "name": "stderr",
     "output_type": "stream",
     "text": [
      "[nltk_data] Downloading package punkt to /home/tobsel/nltk_data...\n",
      "[nltk_data]   Package punkt is already up-to-date!\n",
      "[nltk_data] Downloading package stopwords to /home/tobsel/nltk_data...\n",
      "[nltk_data]   Package stopwords is already up-to-date!\n"
     ]
    },
    {
     "data": {
      "text/plain": [
       "True"
      ]
     },
     "execution_count": 2,
     "metadata": {},
     "output_type": "execute_result"
    }
   ],
   "source": [
    "# import the packages\n",
    "import nltk\n",
    "# download the tokenizers\n",
    "nltk.download(\"punkt\")\n",
    "nltk.download(\"stopwords\")"
   ]
  },
  {
   "cell_type": "markdown",
   "id": "71602444",
   "metadata": {},
   "source": [
    "# 2) Run the experiment source code"
   ]
  },
  {
   "cell_type": "markdown",
   "id": "1a0b7c12",
   "metadata": {},
   "source": [
    "## 2.1) Imports, variables"
   ]
  },
  {
   "cell_type": "code",
   "execution_count": 3,
   "id": "c820456e",
   "metadata": {},
   "outputs": [],
   "source": [
    "# imports\n",
    "import os\n",
    "import re\n",
    "import csv\n",
    "import sys\n",
    "import time\n",
    "import pickle\n",
    "import argparse\n",
    "import numpy as np\n",
    "import pandas as pd\n",
    "from pathlib import Path\n",
    "from bs4 import BeautifulSoup\n",
    "from collections import Counter\n",
    "from sklearn import preprocessing\n",
    "from nltk.corpus import stopwords\n",
    "from sklearn.model_selection import KFold, StratifiedKFold\n",
    "from sklearn.feature_extraction.text import CountVectorizer\n",
    "from sklearn.metrics import f1_score, confusion_matrix\n",
    "from sklearn.datasets import dump_svmlight_file\n",
    "from sklearn.svm import SVC"
   ]
  },
  {
   "cell_type": "code",
   "execution_count": 4,
   "id": "8b44b9b4",
   "metadata": {},
   "outputs": [],
   "source": [
    "# Constants\n",
    "z1 = 200  # empirical observed standardisation value"
   ]
  },
  {
   "cell_type": "markdown",
   "id": "b355d154",
   "metadata": {},
   "source": [
    "## 2.1) Lexica"
   ]
  },
  {
   "cell_type": "code",
   "execution_count": 5,
   "id": "b78e5a14",
   "metadata": {},
   "outputs": [],
   "source": [
    "# Files\n",
    "lexica_files = {\n",
    "    \"privacy\": \"lexicon/privacy.txt\",\n",
    "    \"contact\": \"lexicon/contact.txt\",\n",
    "    \"stopwords\": \"lexicon/stopwords.txt\",\n",
    "    \"commercial\": \"lexicon/comm_list.txt\"\n",
    "}"
   ]
  },
  {
   "cell_type": "code",
   "execution_count": 6,
   "id": "d2042375",
   "metadata": {},
   "outputs": [],
   "source": [
    "\"\"\"\n",
    "This function loads a lexicon from a file\n",
    "\"\"\"\n",
    "def load_lexicon_from_file(file_path):\n",
    "    with open(file_path) as file:\n",
    "        lexicon = [word.rstrip() for word in file.readlines()]\n",
    "    return lexicon\n",
    "\n",
    "\n",
    "class Lexicon:\n",
    "    def __init__(self, file_paths):\n",
    "        self.stopwords = set(stopwords.words(\"english\"))\n",
    "        new_words = load_lexicon_from_file(file_paths[\"stopwords\"])\n",
    "        self.stopwords = self.stopwords.union(new_words)\n",
    "        self.commercial = load_lexicon_from_file(file_paths[\"commercial\"])\n",
    "        self.contact = load_lexicon_from_file(file_paths[\"contact\"])\n",
    "        self.privacy = load_lexicon_from_file(file_paths[\"privacy\"])\n",
    "\n",
    "\n",
    "# Load all lexica\n",
    "lexicon = Lexicon(lexica_files)"
   ]
  },
  {
   "cell_type": "markdown",
   "id": "3622feaa",
   "metadata": {},
   "source": [
    "## 2.2) Reporting functions for the scores"
   ]
  },
  {
   "cell_type": "code",
   "execution_count": 7,
   "id": "f9deaf54",
   "metadata": {},
   "outputs": [],
   "source": [
    "\"\"\"\n",
    "This function implements the weighted accuracy metric described in Sondhi's study\n",
    "\"\"\"\n",
    "def weighted_accuracy(bias, tn, tp, fn, fp):\n",
    "    return (bias * tp + tn) / (bias * (tp + fn) + tn + fp)"
   ]
  },
  {
   "cell_type": "code",
   "execution_count": 8,
   "id": "9aec6b41",
   "metadata": {},
   "outputs": [],
   "source": [
    "\"\"\"\n",
    "This function saves in a file the obtained performance for a concrete cost-factor and feature set\n",
    "\"\"\"\n",
    "def save_results(dataset, features, cost_factor, ts, accuracies, f1_l, f1_rel_l, f1_unrel_l):\n",
    "    if not os.path.exists('./results'):\n",
    "        os.makedirs('./results')\n",
    "\n",
    "    with open(\"./results/\" + dataset + \"_results_\" + features + \"_cost_fact\" + str(cost_factor) + \"_\" + ts + \".txt\",\n",
    "              \"w+\") as f:\n",
    "        f.write(\"The mean accuracy is \" + str(np.mean(accuracies)) + \"\\n\")\n",
    "        f.write(\"The f1-score is \" + str(np.mean(f1_l)) + \"\\n\")\n",
    "        f.write(\"The credible f1-score is \" + str(np.mean(f1_rel_l)) + \"\\n\")\n",
    "        f.write(\"The non-credible f1-score is \" + str(np.mean(f1_unrel_l)) + \"\\n\")"
   ]
  },
  {
   "cell_type": "markdown",
   "id": "1981e817",
   "metadata": {},
   "source": [
    "## 2.3) Various feature extraction functions\n",
    "The following functions count occurrences of different types of words"
   ]
  },
  {
   "cell_type": "code",
   "execution_count": 9,
   "id": "277faa24",
   "metadata": {},
   "outputs": [],
   "source": [
    "\"\"\"\n",
    "This function calculates the word-based features as their normalized frequency value\n",
    "\"\"\"\n",
    "def word_features(doc, vectorizer):\n",
    "    vector = vectorizer.transform([doc])\n",
    "    doc_to_list = list(vector.toarray()[0])\n",
    "    maximum = max(doc_to_list)\n",
    "\n",
    "    if maximum:\n",
    "        for val in doc_to_list:\n",
    "            index = doc_to_list.index(val)\n",
    "            doc_to_list[index] = val / maximum\n",
    "\n",
    "    return doc_to_list"
   ]
  },
  {
   "cell_type": "code",
   "execution_count": 10,
   "id": "07d17bf3",
   "metadata": {},
   "outputs": [],
   "source": [
    "\"\"\"\n",
    "This function counts the total commercial interest words appearances and returns the normalized frequency total value\n",
    "\"\"\"\n",
    "def count_commercial_keywords(filename, doc):\n",
    "    commercial_words = 0\n",
    "\n",
    "    with open(filename, encoding=\"utf-8\", errors=\"ignore\") as reader:\n",
    "        soup = BeautifulSoup(reader.read(), 'html5lib')\n",
    "        text = soup.get_text()\n",
    "        output = text.split(\" \")\n",
    "\n",
    "        for line in output:\n",
    "            for term in lexicon.commercial:\n",
    "                if term in line:\n",
    "                    commercial_words += 1\n",
    "\n",
    "        doc = doc.split(\" \")\n",
    "\n",
    "    return commercial_words / len(doc)"
   ]
  },
  {
   "cell_type": "code",
   "execution_count": 11,
   "id": "fd3e5bf8",
   "metadata": {},
   "outputs": [],
   "source": [
    "\"\"\"\n",
    "This function counts the number of commercial links present in a webpage\n",
    "\"\"\"\n",
    "def count_commercial_links(filename):\n",
    "    with open(filename, encoding=\"utf-8\", errors=\"ignore\") as reader:\n",
    "        soup = BeautifulSoup(reader.read(), 'html5lib')\n",
    "        links = Counter([x.get('href') for x in soup.findAll('a')])\n",
    "        links = links.most_common()\n",
    "        commercial = 0\n",
    "\n",
    "        for item in links:\n",
    "            if item[0]:\n",
    "                if any(ext in item[0] for ext in lexicon.commercial):\n",
    "                    commercial += item[1]\n",
    "\n",
    "    return commercial / z1"
   ]
  },
  {
   "cell_type": "code",
   "execution_count": 12,
   "id": "79c9afad",
   "metadata": {},
   "outputs": [],
   "source": [
    "\"\"\"\n",
    "This function calculates the link-based features\n",
    "\"\"\"\n",
    "def count_links(filename):\n",
    "    with open(filename, encoding=\"utf-8\", errors=\"ignore\") as reader:\n",
    "        soup = BeautifulSoup(reader.read(), 'html5lib')\n",
    "        links = Counter([x.get('href') for x in soup.findAll('a')])\n",
    "        links = links.most_common()\n",
    "        total = 0\n",
    "        external = 0\n",
    "        contact = 0\n",
    "        privacy = 0\n",
    "\n",
    "        for item in links:\n",
    "            total += item[1]\n",
    "            if item[0]:\n",
    "                if item[0].startswith(('http', 'ftp', 'www')):\n",
    "                    external += item[1]\n",
    "                if any(ext in item[0] for ext in lexicon.contact):\n",
    "                    contact = 1\n",
    "                if any(ext in item[0] for ext in lexicon.privacy):\n",
    "                    privacy = 1\n",
    "\n",
    "        internal = total - external\n",
    "\n",
    "    return total / z1, external / z1, internal / z1, contact, privacy  # presence of contact and privacy links are boolean features"
   ]
  },
  {
   "cell_type": "code",
   "execution_count": 13,
   "id": "828384e3",
   "metadata": {},
   "outputs": [],
   "source": [
    "\"\"\"\n",
    "This function implements the whole casuistic of feature combinations\n",
    "\"\"\"\n",
    "def features_calc(docs, corpus, vectorizer, features):\n",
    "    for filename, doc in zip(docs, corpus):\n",
    "        doc_features = []\n",
    "\n",
    "        if features == \"link\" or features == \"comm\" or features == \"allRem\" or features == \"allKeep\":\n",
    "            links_counts = count_links(filename)\n",
    "            doc_features.extend(links_counts)\n",
    "\n",
    "        if features == \"comm\" or features == \"allRem\" or features == \"allKeep\":\n",
    "            commercial_links = count_commercial_links(filename)\n",
    "            commercial_words = count_commercial_keywords(filename, doc)\n",
    "            doc_features.extend([commercial_links, commercial_words])\n",
    "\n",
    "        if features == \"wordsRem\" or features == \"wordsKeep\" or features == \"allRem\" or features == \"allKeep\":\n",
    "            words = word_features(doc, vectorizer)\n",
    "            doc_features.extend(words)\n",
    "\n",
    "        yield doc_features"
   ]
  },
  {
   "cell_type": "code",
   "execution_count": 14,
   "id": "615fdcde",
   "metadata": {},
   "outputs": [],
   "source": [
    "\"\"\"\n",
    "This function generates the vocabulary for a given corpus\n",
    "\"\"\"\n",
    "def generate_vocabulary(corpus, min_df):\n",
    "    vectorizer = CountVectorizer(min_df=min_df)\n",
    "    vectorizer.fit(corpus)\n",
    "    return vectorizer"
   ]
  },
  {
   "cell_type": "code",
   "execution_count": 15,
   "id": "fe86c51e",
   "metadata": {},
   "outputs": [],
   "source": [
    "\"\"\"\n",
    "This function normalizes a text to be used as a ML algorithm input\n",
    "\"\"\"\n",
    "def __normalize_text(line, features):\n",
    "    line = re.sub('[^a-zA-Z]', ' ', line)  # remove punctuations\n",
    "    line = line.lower()  # convert to lowercase\n",
    "    line = re.sub(\"&lt;/?.*?&gt;\", \" &lt;&gt; \", line)  # remove tags\n",
    "    line = re.sub(\"(\\\\d|\\\\W)+\", \" \", line)  # remove special char and digits \n",
    "    line = line.split()  # convert string to list\n",
    "\n",
    "    if features != \"wordsKeep\" and features != \"allKeep\":\n",
    "        line = [word for word in line if not word in lexicon.stopwords]  # remove stopwords\n",
    "\n",
    "    line = \" \".join(line)\n",
    "    return line"
   ]
  },
  {
   "cell_type": "code",
   "execution_count": 16,
   "id": "dcaba7b6",
   "metadata": {},
   "outputs": [],
   "source": [
    "\"\"\"\n",
    "This function extracts clean text from a given HTML file\n",
    "\"\"\"\n",
    "def preprocess_text(filename, features):\n",
    "    with open(filename, encoding=\"utf-8\", errors=\"ignore\") as reader:\n",
    "        soup = BeautifulSoup(reader.read(), 'html5lib')\n",
    "        text = soup.get_text()\n",
    "        output = text.split(\"\\n\")\n",
    "        lines = []\n",
    "\n",
    "        for line in output:\n",
    "            line = __normalize_text(line, features)\n",
    "            lines.append(line)\n",
    "\n",
    "        doc = \" \".join(lines)\n",
    "        return doc"
   ]
  },
  {
   "cell_type": "code",
   "execution_count": 17,
   "id": "b43190ec",
   "metadata": {},
   "outputs": [],
   "source": [
    "\"\"\"\n",
    "This function generates an entire clean corpus from HTML files\n",
    "\"\"\"\n",
    "def generate_corpus(docs, features):\n",
    "    corpus = []\n",
    "\n",
    "    for doc in docs:\n",
    "        doc = preprocess_text(doc, features)\n",
    "        corpus.append(doc)\n",
    "\n",
    "    return corpus"
   ]
  },
  {
   "cell_type": "markdown",
   "id": "1de6fb62",
   "metadata": {},
   "source": [
    "## 2.4) Data loading functions for different data sets"
   ]
  },
  {
   "cell_type": "code",
   "execution_count": 18,
   "id": "3ce931bc",
   "metadata": {},
   "outputs": [],
   "source": [
    "\"\"\"\n",
    "This function loads the CLEF dataset\n",
    "\"\"\"\n",
    "def data_clef():\n",
    "    if not os.path.exists('./datasets/CLEF/clef2018collection'):\n",
    "        print(\"To perform these experiments you first need to download clef2018collection\")\n",
    "        sys.exit(1)\n",
    "\n",
    "    X = []\n",
    "    Y = []\n",
    "\n",
    "    with open('./datasets/CLEF/CLEF2018_qtrust_20180914.txt', newline='') as assessments:\n",
    "        reader = csv.reader(assessments, delimiter=' ')\n",
    "        for row in reader:\n",
    "            web = row[2]\n",
    "            rating = int(row[3])\n",
    "\n",
    "            if rating == 0 or rating == 1 or rating == 2 or rating == 3:  # relabelling process \n",
    "                for filename in Path('./datasets/CLEF/clef2018collection').rglob(\n",
    "                        web):  # this function finds recursively a file in an entire path\n",
    "                    X.append(filename)\n",
    "                    break\n",
    "                Y.append(1)\n",
    "\n",
    "            elif rating == 7 or rating == 8 or rating == 9 or rating == 10:  # relabelling process \n",
    "                for filename in Path('./datasets/CLEF/clef2018collection').rglob(web):\n",
    "                    X.append(filename)\n",
    "                    break\n",
    "                Y.append(-1)\n",
    "\n",
    "    return np.array(X), np.array(Y)"
   ]
  },
  {
   "cell_type": "code",
   "execution_count": 19,
   "id": "90b841bb",
   "metadata": {},
   "outputs": [],
   "source": [
    "\"\"\"\n",
    "This function loads the Schwarz dataset\n",
    "\"\"\"\n",
    "def data_schwarz():\n",
    "    df = pd.read_excel(\"./datasets/Schwarz/web_credibility_relabeled.xlsx\")\n",
    "    ratings = df['Likert Rating']\n",
    "    urls = df['URL']\n",
    "    root = os.getcwd()\n",
    "    path = './datasets/Schwarz/CachedPages'\n",
    "    os.chdir(path)\n",
    "    cached_pages_dir = os.getcwd()\n",
    "    X = []\n",
    "    Y = []\n",
    "\n",
    "    for url, rating in zip(urls, ratings):\n",
    "        try:\n",
    "            url = url.replace('http://', '')\n",
    "            url = url.split('/')\n",
    "            if url[-1]:  # this case deals with urls like 'www.adamofficial.com/us/home'\n",
    "                url = '/'.join(url[:-1])\n",
    "                os.chdir(url)\n",
    "                f = [f for f in os.listdir() if re.match(url[-1] + '*', f) and os.path.isfile(f)]\n",
    "            else:\n",
    "                url = '/'.join(url)\n",
    "                os.chdir(url)\n",
    "                f = [f for f in os.listdir() if re.match('index*', f) and os.path.isfile(f)]\n",
    "\n",
    "            X.append(os.path.join(os.getcwd(), f[0]))\n",
    "            Y.append(rating)\n",
    "            os.chdir(cached_pages_dir)\n",
    "        except:\n",
    "            pass\n",
    "\n",
    "    os.chdir(root)\n",
    "    return np.array(X), np.array(Y)"
   ]
  },
  {
   "cell_type": "code",
   "execution_count": 20,
   "id": "9e1fff25",
   "metadata": {},
   "outputs": [],
   "source": [
    "\"\"\"\n",
    "This function loads the Sondhi dataset\n",
    "\"\"\"\n",
    "def data_sondhi():\n",
    "    path1 = './datasets/Sondhi/reliable'\n",
    "    root = os.getcwd()\n",
    "    os.chdir(path1)\n",
    "    arr1 = os.listdir('.')\n",
    "    path2 = '../unreliable'\n",
    "    os.chdir(path2)\n",
    "    arr2 = os.listdir('.')\n",
    "    X = []\n",
    "    Y = []\n",
    "\n",
    "    for rel, unrel in zip(arr1, arr2):\n",
    "        os.chdir('../reliable')\n",
    "        X.append('./datasets/Sondhi/reliable/' + rel)\n",
    "        Y.append(-1)\n",
    "        os.chdir('../unreliable')\n",
    "        X.append('./datasets/Sondhi/unreliable/' + unrel)\n",
    "        Y.append(1)\n",
    "\n",
    "    os.chdir(root)\n",
    "    return np.array(X), np.array(Y)"
   ]
  },
  {
   "cell_type": "markdown",
   "id": "34e025ea",
   "metadata": {},
   "source": [
    "## 2.5) Model training function"
   ]
  },
  {
   "cell_type": "code",
   "execution_count": 27,
   "id": "cc47a7f3",
   "metadata": {},
   "outputs": [],
   "source": [
    "def train(dataset=\"Sondhi\", features=\"link\", dump=True, standard=True, cost_factors=[1, 2, 3], reproducibility_seed=1):\n",
    "    if dataset == \"Sondhi\":\n",
    "        X, Y = data_sondhi()\n",
    "        n = 5\n",
    "        min_df = 1\n",
    "\n",
    "    elif dataset == \"Schwarz\":\n",
    "        X, Y = data_schwarz()\n",
    "        n = 2\n",
    "        min_df = 0.5\n",
    "\n",
    "    elif dataset == \"CLEF\":\n",
    "        X, Y = data_clef()\n",
    "        n = 5\n",
    "        min_df = 0.4\n",
    "\n",
    "    else:\n",
    "        print(\"Unknown dataset\")\n",
    "        return\n",
    "\n",
    "    np.random.seed(reproducibility_seed)  # reproducibility seed\n",
    "    skf = StratifiedKFold(n_splits=n)  # stratified k-fold: preserves the percentage of samples for each class\n",
    "    ts = str(time.time())\n",
    "    print(\"EXPERIMENT ID: \", ts)  # we use the timestamp as experiment id\n",
    "\n",
    "    \"\"\"\n",
    "    For each cost-factor, we perform a n-fold cross validation for the feature set previously selected\n",
    "    \"\"\"\n",
    "    for cost_factor in cost_factors:\n",
    "\n",
    "        accuracies, f1_micro, f1_rel, f1_unrel = [], [], [], []\n",
    "        it = 1\n",
    "\n",
    "        for train_index, test_index in skf.split(X, Y):\n",
    "\n",
    "            data_train = X[train_index]\n",
    "            corpus_train = generate_corpus(data_train, features)\n",
    "            vectorizer = generate_vocabulary(corpus_train, min_df)  # for each fold we reset vocabulary associated to training set\n",
    "\n",
    "            if dump:\n",
    "                if not os.path.exists('./models'):\n",
    "                    os.makedirs('./models')\n",
    "\n",
    "                pickle.dump(vectorizer, open(\n",
    "                    f\"models/vocabulary_{dataset}_{features}_it{it}_cost_fact{cost_factor}_{ts}.pkl\", \"wb\"))\n",
    "\n",
    "            data_train = features_calc(data_train, corpus_train, vectorizer, features)\n",
    "            target_train = Y[train_index]\n",
    "\n",
    "            if standard:\n",
    "                list_data_train = list(data_train)\n",
    "                scaler_x = preprocessing.StandardScaler().fit(list_data_train)\n",
    "\n",
    "                if dump:\n",
    "                    pickle.dump(scaler_x, open(\n",
    "                        f\"models/scaler_{dataset}_{features}_it{it}_cost_fact{cost_factor}_{ts}.pkl\", \"wb\"))\n",
    "\n",
    "                data_train = scaler_x.transform(list_data_train)\n",
    "\n",
    "            elif not standard:\n",
    "                data_train = np.array(list(data_train))\n",
    "                nsamples, nx = data_train.shape\n",
    "                data_train = data_train.reshape((nsamples, nx))\n",
    "\n",
    "            if not os.path.exists('./aux'):\n",
    "                os.makedirs('./aux')\n",
    "\n",
    "            dump_svmlight_file(data_train, target_train, f\"aux/train_{ts}.txt\")\n",
    "\n",
    "            data_test = X[test_index]\n",
    "            corpus_test = generate_corpus(data_test, features)\n",
    "            data_test = features_calc(data_test, corpus_test, vectorizer, features)\n",
    "            target_test = Y[test_index]\n",
    "\n",
    "            if standard:\n",
    "                data_test = scaler_x.transform(list(data_test))\n",
    "\n",
    "            elif not standard:\n",
    "                data_test = np.array(list(data_test))\n",
    "                nsamples, nx = data_test.shape\n",
    "                data_test = data_test.reshape((nsamples, nx))\n",
    "\n",
    "            dump_svmlight_file(data_test, target_test, f\"aux/test_{ts}.txt\")\n",
    "\n",
    "            print(\"Training it=\", it, \"cost-factor=\", cost_factor)\n",
    "            clf = SVC(gamma=\"auto\", class_weight={-1:1, 1:cost_factor})\n",
    "            clf.fit(data_train, target_train)\n",
    "\n",
    "            if dump:\n",
    "                filename = f\"models/model_{dataset}_{features}_it{it}_cost_fact{cost_factor}_{ts}.dat\"\n",
    "                pickle.dump(clf, open(filename, \"wb\"))\n",
    "\n",
    "            print(\"Predicting it=\", it, \"cost-factor=\", cost_factor)\n",
    "            predictions = clf.predict(data_test)\n",
    "\n",
    "            tn, fp, fn, tp = confusion_matrix(target_test, predictions).ravel()\n",
    "\n",
    "            accuracies.append(weighted_accuracy(cost_factor, tn, tp, fn, fp) * 100)\n",
    "            f1_micro.append(f1_score(target_test, predictions, average='micro'))  # micro: calculates metrics totally by counting the total true positives, false negatives and false positives\n",
    "            cl = f1_score(target_test, predictions, average=None)  # none: returns scores for each class\n",
    "            f1_rel.append(cl[0])\n",
    "            f1_unrel.append(cl[1])\n",
    "            it += 1\n",
    "\n",
    "        print(\"The accuracy is\", np.mean(accuracies))\n",
    "        print(\"The f1-score is\", np.mean(f1_micro))\n",
    "        print(\"The credible f1-score is\", np.mean(f1_rel))\n",
    "        print(\"The non-credible f1-score is\", np.mean(f1_unrel))\n",
    "        save_results(dataset, features, cost_factor, ts, accuracies, f1_micro, f1_rel, f1_unrel)"
   ]
  },
  {
   "cell_type": "markdown",
   "id": "d5000ae0",
   "metadata": {},
   "source": [
    "# 3) Run the experiment"
   ]
  },
  {
   "cell_type": "markdown",
   "id": "7e739f91",
   "metadata": {},
   "source": [
    "## 3.1) Run the experiment with some standard settings"
   ]
  },
  {
   "cell_type": "code",
   "execution_count": 28,
   "id": "f72fd965",
   "metadata": {},
   "outputs": [
    {
     "name": "stdout",
     "output_type": "stream",
     "text": [
      "EXPERIMENT ID:  1672280307.0666358\n",
      "Training it= 1 cost-factor= 1\n",
      "Predicting it= 1 cost-factor= 1\n",
      "Training it= 2 cost-factor= 1\n",
      "Predicting it= 2 cost-factor= 1\n",
      "Training it= 3 cost-factor= 1\n",
      "Predicting it= 3 cost-factor= 1\n",
      "Training it= 4 cost-factor= 1\n",
      "Predicting it= 4 cost-factor= 1\n",
      "Training it= 5 cost-factor= 1\n",
      "Predicting it= 5 cost-factor= 1\n",
      "The accuracy is 73.33333333333334\n",
      "The f1-score is 0.7333333333333334\n",
      "The credible f1-score is 0.6900037686074995\n",
      "The non-credible f1-score is 0.7645114411132903\n",
      "Training it= 1 cost-factor= 2\n",
      "Predicting it= 1 cost-factor= 2\n",
      "Training it= 2 cost-factor= 2\n",
      "Predicting it= 2 cost-factor= 2\n",
      "Training it= 3 cost-factor= 2\n",
      "Predicting it= 3 cost-factor= 2\n"
     ]
    },
    {
     "ename": "KeyboardInterrupt",
     "evalue": "",
     "output_type": "error",
     "traceback": [
      "\u001b[0;31m---------------------------------------------------------------------------\u001b[0m",
      "\u001b[0;31mKeyboardInterrupt\u001b[0m                         Traceback (most recent call last)",
      "Cell \u001b[0;32mIn [28], line 1\u001b[0m\n\u001b[0;32m----> 1\u001b[0m train()\n",
      "Cell \u001b[0;32mIn [27], line 37\u001b[0m, in \u001b[0;36mtrain\u001b[0;34m(dataset, features, dump, standard, cost_factors, reproducibility_seed)\u001b[0m\n\u001b[1;32m     34\u001b[0m \u001b[38;5;28;01mfor\u001b[39;00m train_index, test_index \u001b[38;5;129;01min\u001b[39;00m skf\u001b[38;5;241m.\u001b[39msplit(X, Y):\n\u001b[1;32m     36\u001b[0m     data_train \u001b[38;5;241m=\u001b[39m X[train_index]\n\u001b[0;32m---> 37\u001b[0m     corpus_train \u001b[38;5;241m=\u001b[39m \u001b[43mgenerate_corpus\u001b[49m\u001b[43m(\u001b[49m\u001b[43mdata_train\u001b[49m\u001b[43m,\u001b[49m\u001b[43m \u001b[49m\u001b[43mfeatures\u001b[49m\u001b[43m)\u001b[49m\n\u001b[1;32m     38\u001b[0m     vectorizer \u001b[38;5;241m=\u001b[39m generate_vocabulary(corpus_train, min_df)  \u001b[38;5;66;03m# for each fold we reset vocabulary associated to training set\u001b[39;00m\n\u001b[1;32m     40\u001b[0m     \u001b[38;5;28;01mif\u001b[39;00m dump:\n",
      "Cell \u001b[0;32mIn [17], line 8\u001b[0m, in \u001b[0;36mgenerate_corpus\u001b[0;34m(docs, features)\u001b[0m\n\u001b[1;32m      5\u001b[0m corpus \u001b[38;5;241m=\u001b[39m []\n\u001b[1;32m      7\u001b[0m \u001b[38;5;28;01mfor\u001b[39;00m doc \u001b[38;5;129;01min\u001b[39;00m docs:\n\u001b[0;32m----> 8\u001b[0m     doc \u001b[38;5;241m=\u001b[39m \u001b[43mpreprocess_text\u001b[49m\u001b[43m(\u001b[49m\u001b[43mdoc\u001b[49m\u001b[43m,\u001b[49m\u001b[43m \u001b[49m\u001b[43mfeatures\u001b[49m\u001b[43m)\u001b[49m\n\u001b[1;32m      9\u001b[0m     corpus\u001b[38;5;241m.\u001b[39mappend(doc)\n\u001b[1;32m     11\u001b[0m \u001b[38;5;28;01mreturn\u001b[39;00m corpus\n",
      "Cell \u001b[0;32mIn [16], line 6\u001b[0m, in \u001b[0;36mpreprocess_text\u001b[0;34m(filename, features)\u001b[0m\n\u001b[1;32m      4\u001b[0m \u001b[38;5;28;01mdef\u001b[39;00m \u001b[38;5;21mpreprocess_text\u001b[39m(filename, features):\n\u001b[1;32m      5\u001b[0m     \u001b[38;5;28;01mwith\u001b[39;00m \u001b[38;5;28mopen\u001b[39m(filename, encoding\u001b[38;5;241m=\u001b[39m\u001b[38;5;124m\"\u001b[39m\u001b[38;5;124mutf-8\u001b[39m\u001b[38;5;124m\"\u001b[39m, errors\u001b[38;5;241m=\u001b[39m\u001b[38;5;124m\"\u001b[39m\u001b[38;5;124mignore\u001b[39m\u001b[38;5;124m\"\u001b[39m) \u001b[38;5;28;01mas\u001b[39;00m reader:\n\u001b[0;32m----> 6\u001b[0m         soup \u001b[38;5;241m=\u001b[39m \u001b[43mBeautifulSoup\u001b[49m\u001b[43m(\u001b[49m\u001b[43mreader\u001b[49m\u001b[38;5;241;43m.\u001b[39;49m\u001b[43mread\u001b[49m\u001b[43m(\u001b[49m\u001b[43m)\u001b[49m\u001b[43m,\u001b[49m\u001b[43m \u001b[49m\u001b[38;5;124;43m'\u001b[39;49m\u001b[38;5;124;43mhtml5lib\u001b[39;49m\u001b[38;5;124;43m'\u001b[39;49m\u001b[43m)\u001b[49m\n\u001b[1;32m      7\u001b[0m         text \u001b[38;5;241m=\u001b[39m soup\u001b[38;5;241m.\u001b[39mget_text()\n\u001b[1;32m      8\u001b[0m         output \u001b[38;5;241m=\u001b[39m text\u001b[38;5;241m.\u001b[39msplit(\u001b[38;5;124m\"\u001b[39m\u001b[38;5;130;01m\\n\u001b[39;00m\u001b[38;5;124m\"\u001b[39m)\n",
      "File \u001b[0;32m~/.local/lib/python3.10/site-packages/bs4/__init__.py:348\u001b[0m, in \u001b[0;36mBeautifulSoup.__init__\u001b[0;34m(self, markup, features, builder, parse_only, from_encoding, exclude_encodings, element_classes, **kwargs)\u001b[0m\n\u001b[1;32m    346\u001b[0m \u001b[38;5;28mself\u001b[39m\u001b[38;5;241m.\u001b[39mreset()\n\u001b[1;32m    347\u001b[0m \u001b[38;5;28;01mtry\u001b[39;00m:\n\u001b[0;32m--> 348\u001b[0m     \u001b[38;5;28;43mself\u001b[39;49m\u001b[38;5;241;43m.\u001b[39;49m\u001b[43m_feed\u001b[49m\u001b[43m(\u001b[49m\u001b[43m)\u001b[49m\n\u001b[1;32m    349\u001b[0m     success \u001b[38;5;241m=\u001b[39m \u001b[38;5;28;01mTrue\u001b[39;00m\n\u001b[1;32m    350\u001b[0m     \u001b[38;5;28;01mbreak\u001b[39;00m\n",
      "File \u001b[0;32m~/.local/lib/python3.10/site-packages/bs4/__init__.py:434\u001b[0m, in \u001b[0;36mBeautifulSoup._feed\u001b[0;34m(self)\u001b[0m\n\u001b[1;32m    431\u001b[0m \u001b[38;5;66;03m# Convert the document to Unicode.\u001b[39;00m\n\u001b[1;32m    432\u001b[0m \u001b[38;5;28mself\u001b[39m\u001b[38;5;241m.\u001b[39mbuilder\u001b[38;5;241m.\u001b[39mreset()\n\u001b[0;32m--> 434\u001b[0m \u001b[38;5;28;43mself\u001b[39;49m\u001b[38;5;241;43m.\u001b[39;49m\u001b[43mbuilder\u001b[49m\u001b[38;5;241;43m.\u001b[39;49m\u001b[43mfeed\u001b[49m\u001b[43m(\u001b[49m\u001b[38;5;28;43mself\u001b[39;49m\u001b[38;5;241;43m.\u001b[39;49m\u001b[43mmarkup\u001b[49m\u001b[43m)\u001b[49m\n\u001b[1;32m    435\u001b[0m \u001b[38;5;66;03m# Close out any unfinished strings and close all the open tags.\u001b[39;00m\n\u001b[1;32m    436\u001b[0m \u001b[38;5;28mself\u001b[39m\u001b[38;5;241m.\u001b[39mendData()\n",
      "File \u001b[0;32m~/.local/lib/python3.10/site-packages/bs4/builder/_html5lib.py:87\u001b[0m, in \u001b[0;36mHTML5TreeBuilder.feed\u001b[0;34m(self, markup)\u001b[0m\n\u001b[1;32m     85\u001b[0m     \u001b[38;5;28;01melse\u001b[39;00m:\n\u001b[1;32m     86\u001b[0m         extra_kwargs[\u001b[38;5;124m'\u001b[39m\u001b[38;5;124mencoding\u001b[39m\u001b[38;5;124m'\u001b[39m] \u001b[38;5;241m=\u001b[39m \u001b[38;5;28mself\u001b[39m\u001b[38;5;241m.\u001b[39muser_specified_encoding\n\u001b[0;32m---> 87\u001b[0m doc \u001b[38;5;241m=\u001b[39m \u001b[43mparser\u001b[49m\u001b[38;5;241;43m.\u001b[39;49m\u001b[43mparse\u001b[49m\u001b[43m(\u001b[49m\u001b[43mmarkup\u001b[49m\u001b[43m,\u001b[49m\u001b[43m \u001b[49m\u001b[38;5;241;43m*\u001b[39;49m\u001b[38;5;241;43m*\u001b[39;49m\u001b[43mextra_kwargs\u001b[49m\u001b[43m)\u001b[49m\n\u001b[1;32m     89\u001b[0m \u001b[38;5;66;03m# Set the character encoding detected by the tokenizer.\u001b[39;00m\n\u001b[1;32m     90\u001b[0m \u001b[38;5;28;01mif\u001b[39;00m \u001b[38;5;28misinstance\u001b[39m(markup, \u001b[38;5;28mstr\u001b[39m):\n\u001b[1;32m     91\u001b[0m     \u001b[38;5;66;03m# We need to special-case this because html5lib sets\u001b[39;00m\n\u001b[1;32m     92\u001b[0m     \u001b[38;5;66;03m# charEncoding to UTF-8 if it gets Unicode input.\u001b[39;00m\n",
      "File \u001b[0;32m~/.local/lib/python3.10/site-packages/html5lib/html5parser.py:284\u001b[0m, in \u001b[0;36mHTMLParser.parse\u001b[0;34m(self, stream, *args, **kwargs)\u001b[0m\n\u001b[1;32m    262\u001b[0m \u001b[38;5;28;01mdef\u001b[39;00m \u001b[38;5;21mparse\u001b[39m(\u001b[38;5;28mself\u001b[39m, stream, \u001b[38;5;241m*\u001b[39margs, \u001b[38;5;241m*\u001b[39m\u001b[38;5;241m*\u001b[39mkwargs):\n\u001b[1;32m    263\u001b[0m     \u001b[38;5;124;03m\"\"\"Parse a HTML document into a well-formed tree\u001b[39;00m\n\u001b[1;32m    264\u001b[0m \n\u001b[1;32m    265\u001b[0m \u001b[38;5;124;03m    :arg stream: a file-like object or string containing the HTML to be parsed\u001b[39;00m\n\u001b[0;32m   (...)\u001b[0m\n\u001b[1;32m    282\u001b[0m \n\u001b[1;32m    283\u001b[0m \u001b[38;5;124;03m    \"\"\"\u001b[39;00m\n\u001b[0;32m--> 284\u001b[0m     \u001b[38;5;28;43mself\u001b[39;49m\u001b[38;5;241;43m.\u001b[39;49m\u001b[43m_parse\u001b[49m\u001b[43m(\u001b[49m\u001b[43mstream\u001b[49m\u001b[43m,\u001b[49m\u001b[43m \u001b[49m\u001b[38;5;28;43;01mFalse\u001b[39;49;00m\u001b[43m,\u001b[49m\u001b[43m \u001b[49m\u001b[38;5;28;43;01mNone\u001b[39;49;00m\u001b[43m,\u001b[49m\u001b[43m \u001b[49m\u001b[38;5;241;43m*\u001b[39;49m\u001b[43margs\u001b[49m\u001b[43m,\u001b[49m\u001b[43m \u001b[49m\u001b[38;5;241;43m*\u001b[39;49m\u001b[38;5;241;43m*\u001b[39;49m\u001b[43mkwargs\u001b[49m\u001b[43m)\u001b[49m\n\u001b[1;32m    285\u001b[0m     \u001b[38;5;28;01mreturn\u001b[39;00m \u001b[38;5;28mself\u001b[39m\u001b[38;5;241m.\u001b[39mtree\u001b[38;5;241m.\u001b[39mgetDocument()\n",
      "File \u001b[0;32m~/.local/lib/python3.10/site-packages/html5lib/html5parser.py:133\u001b[0m, in \u001b[0;36mHTMLParser._parse\u001b[0;34m(self, stream, innerHTML, container, scripting, **kwargs)\u001b[0m\n\u001b[1;32m    130\u001b[0m \u001b[38;5;28mself\u001b[39m\u001b[38;5;241m.\u001b[39mreset()\n\u001b[1;32m    132\u001b[0m \u001b[38;5;28;01mtry\u001b[39;00m:\n\u001b[0;32m--> 133\u001b[0m     \u001b[38;5;28;43mself\u001b[39;49m\u001b[38;5;241;43m.\u001b[39;49m\u001b[43mmainLoop\u001b[49m\u001b[43m(\u001b[49m\u001b[43m)\u001b[49m\n\u001b[1;32m    134\u001b[0m \u001b[38;5;28;01mexcept\u001b[39;00m _ReparseException:\n\u001b[1;32m    135\u001b[0m     \u001b[38;5;28mself\u001b[39m\u001b[38;5;241m.\u001b[39mreset()\n",
      "File \u001b[0;32m~/.local/lib/python3.10/site-packages/html5lib/html5parser.py:204\u001b[0m, in \u001b[0;36mHTMLParser.mainLoop\u001b[0;34m(self)\u001b[0m\n\u001b[1;32m    201\u001b[0m DoctypeToken \u001b[38;5;241m=\u001b[39m tokenTypes[\u001b[38;5;124m\"\u001b[39m\u001b[38;5;124mDoctype\u001b[39m\u001b[38;5;124m\"\u001b[39m]\n\u001b[1;32m    202\u001b[0m ParseErrorToken \u001b[38;5;241m=\u001b[39m tokenTypes[\u001b[38;5;124m\"\u001b[39m\u001b[38;5;124mParseError\u001b[39m\u001b[38;5;124m\"\u001b[39m]\n\u001b[0;32m--> 204\u001b[0m \u001b[38;5;28;01mfor\u001b[39;00m token \u001b[38;5;129;01min\u001b[39;00m \u001b[38;5;28mself\u001b[39m\u001b[38;5;241m.\u001b[39mtokenizer:\n\u001b[1;32m    205\u001b[0m     prev_token \u001b[38;5;241m=\u001b[39m \u001b[38;5;28;01mNone\u001b[39;00m\n\u001b[1;32m    206\u001b[0m     new_token \u001b[38;5;241m=\u001b[39m token\n",
      "File \u001b[0;32m~/.local/lib/python3.10/site-packages/html5lib/_tokenizer.py:65\u001b[0m, in \u001b[0;36mHTMLTokenizer.__iter__\u001b[0;34m(self)\u001b[0m\n\u001b[1;32m     62\u001b[0m \u001b[38;5;28mself\u001b[39m\u001b[38;5;241m.\u001b[39mtokenQueue \u001b[38;5;241m=\u001b[39m deque([])\n\u001b[1;32m     63\u001b[0m \u001b[38;5;66;03m# Start processing. When EOF is reached self.state will return False\u001b[39;00m\n\u001b[1;32m     64\u001b[0m \u001b[38;5;66;03m# instead of True and the loop will terminate.\u001b[39;00m\n\u001b[0;32m---> 65\u001b[0m \u001b[38;5;28;01mwhile\u001b[39;00m \u001b[38;5;28;43mself\u001b[39;49m\u001b[38;5;241;43m.\u001b[39;49m\u001b[43mstate\u001b[49m\u001b[43m(\u001b[49m\u001b[43m)\u001b[49m:\n\u001b[1;32m     66\u001b[0m     \u001b[38;5;28;01mwhile\u001b[39;00m \u001b[38;5;28mself\u001b[39m\u001b[38;5;241m.\u001b[39mstream\u001b[38;5;241m.\u001b[39merrors:\n\u001b[1;32m     67\u001b[0m         \u001b[38;5;28;01myield\u001b[39;00m {\u001b[38;5;124m\"\u001b[39m\u001b[38;5;124mtype\u001b[39m\u001b[38;5;124m\"\u001b[39m: tokenTypes[\u001b[38;5;124m\"\u001b[39m\u001b[38;5;124mParseError\u001b[39m\u001b[38;5;124m\"\u001b[39m], \u001b[38;5;124m\"\u001b[39m\u001b[38;5;124mdata\u001b[39m\u001b[38;5;124m\"\u001b[39m: \u001b[38;5;28mself\u001b[39m\u001b[38;5;241m.\u001b[39mstream\u001b[38;5;241m.\u001b[39merrors\u001b[38;5;241m.\u001b[39mpop(\u001b[38;5;241m0\u001b[39m)}\n",
      "File \u001b[0;32m~/.local/lib/python3.10/site-packages/html5lib/_tokenizer.py:411\u001b[0m, in \u001b[0;36mHTMLTokenizer.closeTagOpenState\u001b[0;34m(self)\u001b[0m\n\u001b[1;32m    410\u001b[0m \u001b[38;5;28;01mdef\u001b[39;00m \u001b[38;5;21mcloseTagOpenState\u001b[39m(\u001b[38;5;28mself\u001b[39m):\n\u001b[0;32m--> 411\u001b[0m     data \u001b[38;5;241m=\u001b[39m \u001b[38;5;28;43mself\u001b[39;49m\u001b[38;5;241;43m.\u001b[39;49m\u001b[43mstream\u001b[49m\u001b[38;5;241;43m.\u001b[39;49m\u001b[43mchar\u001b[49m\u001b[43m(\u001b[49m\u001b[43m)\u001b[49m\n\u001b[1;32m    412\u001b[0m     \u001b[38;5;28;01mif\u001b[39;00m data \u001b[38;5;129;01min\u001b[39;00m asciiLetters:\n\u001b[1;32m    413\u001b[0m         \u001b[38;5;28mself\u001b[39m\u001b[38;5;241m.\u001b[39mcurrentToken \u001b[38;5;241m=\u001b[39m {\u001b[38;5;124m\"\u001b[39m\u001b[38;5;124mtype\u001b[39m\u001b[38;5;124m\"\u001b[39m: tokenTypes[\u001b[38;5;124m\"\u001b[39m\u001b[38;5;124mEndTag\u001b[39m\u001b[38;5;124m\"\u001b[39m], \u001b[38;5;124m\"\u001b[39m\u001b[38;5;124mname\u001b[39m\u001b[38;5;124m\"\u001b[39m: data,\n\u001b[1;32m    414\u001b[0m                              \u001b[38;5;124m\"\u001b[39m\u001b[38;5;124mdata\u001b[39m\u001b[38;5;124m\"\u001b[39m: [], \u001b[38;5;124m\"\u001b[39m\u001b[38;5;124mselfClosing\u001b[39m\u001b[38;5;124m\"\u001b[39m: \u001b[38;5;28;01mFalse\u001b[39;00m}\n",
      "\u001b[0;31mKeyboardInterrupt\u001b[0m: "
     ]
    }
   ],
   "source": [
    "train()"
   ]
  },
  {
   "cell_type": "markdown",
   "id": "62cde937",
   "metadata": {},
   "source": [
    "# 3.2) Reproduce different experiments"
   ]
  },
  {
   "cell_type": "markdown",
   "id": "9b339368",
   "metadata": {},
   "source": [
    "## Experiment parameters\n",
    "There exist three options for the dataset:\n",
    " - CLEF\n",
    " - Sondhi\n",
    " - Schwarz\n",
    " \n",
    "Different sets of features can be used:\n",
    " - link\n",
    " - comm \n",
    " - wordsRem\n",
    " - wordsKeep\n",
    " - allRem\n",
    " - allKeep\n",
    " \n",
    "The training can be done with and without saving the models in the ./models folder:\n",
    " - True (with saving)\n",
    " - False (without saving)\n",
    " \n",
    "Standardization can be performed\n",
    " - True (with standardization)\n",
    " - False (without standardization)"
   ]
  },
  {
   "cell_type": "code",
   "execution_count": null,
   "id": "c59560cf",
   "metadata": {},
   "outputs": [],
   "source": [
    "# train parameters\n",
    "dataset = \"Sondhi\"\n",
    "features = \"comm\"\n",
    "dump = True \n",
    "standard = True"
   ]
  },
  {
   "cell_type": "code",
   "execution_count": null,
   "id": "c5b84c3d",
   "metadata": {},
   "outputs": [],
   "source": [
    "# start of model training\n",
    "train(dataset, features, dump, standard)"
   ]
  }
 ],
 "metadata": {
  "kernelspec": {
   "display_name": "Python 3 (ipykernel)",
   "language": "python",
   "name": "python3"
  },
  "language_info": {
   "codemirror_mode": {
    "name": "ipython",
    "version": 3
   },
   "file_extension": ".py",
   "mimetype": "text/x-python",
   "name": "python",
   "nbconvert_exporter": "python",
   "pygments_lexer": "ipython3",
   "version": "3.10.6"
  }
 },
 "nbformat": 4,
 "nbformat_minor": 5
}
