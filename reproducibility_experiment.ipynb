{
 "cells": [
  {
   "cell_type": "markdown",
   "metadata": {},
   "source": [
    "# 1) Initialize the project setup"
   ]
  },
  {
   "cell_type": "markdown",
   "metadata": {},
   "source": [
    "## 1.1) Install the python packages"
   ]
  },
  {
   "cell_type": "code",
   "execution_count": 1,
   "metadata": {},
   "outputs": [
    {
     "name": "stdout",
     "output_type": "stream",
     "text": [
      "Requirement already satisfied: bs4 in /home/tobias/.local/lib/python3.8/site-packages (0.0.1)\n",
      "Requirement already satisfied: beautifulsoup4 in /home/tobias/.local/lib/python3.8/site-packages (from bs4) (4.11.1)\n",
      "Requirement already satisfied: soupsieve>1.2 in /home/tobias/.local/lib/python3.8/site-packages (from beautifulsoup4->bs4) (2.3.2.post1)\n",
      "Requirement already satisfied: nltk in /home/tobias/.local/lib/python3.8/site-packages (3.8.1)\n",
      "Requirement already satisfied: regex>=2021.8.3 in /home/tobias/.local/lib/python3.8/site-packages (from nltk) (2022.10.31)\n",
      "Requirement already satisfied: click in /usr/lib/python3/dist-packages (from nltk) (7.0)\n",
      "Requirement already satisfied: joblib in /home/tobias/.local/lib/python3.8/site-packages (from nltk) (1.1.0)\n",
      "Requirement already satisfied: tqdm in /home/tobias/.local/lib/python3.8/site-packages (from nltk) (4.64.1)\n",
      "Requirement already satisfied: openpyxl in /home/tobias/.local/lib/python3.8/site-packages (3.0.10)\n",
      "Requirement already satisfied: et-xmlfile in /home/tobias/.local/lib/python3.8/site-packages (from openpyxl) (1.1.0)\n",
      "Requirement already satisfied: pickle-mixin in /home/tobias/.local/lib/python3.8/site-packages (1.0.2)\n",
      "Requirement already satisfied: argparse in /home/tobias/.local/lib/python3.8/site-packages (1.4.0)\n",
      "Requirement already satisfied: numpy in /home/tobias/.local/lib/python3.8/site-packages (1.21.6)\n",
      "Requirement already satisfied: pandas in /home/tobias/.local/lib/python3.8/site-packages (1.4.1)\n",
      "Requirement already satisfied: numpy>=1.18.5; platform_machine != \"aarch64\" and platform_machine != \"arm64\" and python_version < \"3.10\" in /home/tobias/.local/lib/python3.8/site-packages (from pandas) (1.21.6)\n",
      "Requirement already satisfied: python-dateutil>=2.8.1 in /home/tobias/.local/lib/python3.8/site-packages (from pandas) (2.8.2)\n",
      "Requirement already satisfied: pytz>=2020.1 in /home/tobias/.local/lib/python3.8/site-packages (from pandas) (2021.3)\n",
      "Requirement already satisfied: six>=1.5 in /usr/lib/python3/dist-packages (from python-dateutil>=2.8.1->pandas) (1.14.0)\n",
      "Requirement already satisfied: scikit-learn in /home/tobias/.local/lib/python3.8/site-packages (1.1.0)\n",
      "Requirement already satisfied: numpy>=1.17.3 in /home/tobias/.local/lib/python3.8/site-packages (from scikit-learn) (1.21.6)\n",
      "Requirement already satisfied: scipy>=1.3.2 in /home/tobias/.local/lib/python3.8/site-packages (from scikit-learn) (1.8.0)\n",
      "Requirement already satisfied: threadpoolctl>=2.0.0 in /home/tobias/.local/lib/python3.8/site-packages (from scikit-learn) (3.1.0)\n",
      "Requirement already satisfied: joblib>=1.0.0 in /home/tobias/.local/lib/python3.8/site-packages (from scikit-learn) (1.1.0)\n",
      "Requirement already satisfied: xlrd in /home/tobias/.local/lib/python3.8/site-packages (2.0.1)\n",
      "Requirement already satisfied: pathlib in /home/tobias/.local/lib/python3.8/site-packages (1.0.1)\n",
      "Requirement already satisfied: w3lib in /home/tobias/.local/lib/python3.8/site-packages (2.1.1)\n"
     ]
    }
   ],
   "source": [
    "!pip install html5lib\n",
    "!pip install bs4\n",
    "!pip install nltk \n",
    "!pip install openpyxl\n",
    "!pip install pickle-mixin \n",
    "!pip install argparse \n",
    "!pip install numpy \n",
    "!pip install pandas \n",
    "!pip install scikit-learn \n",
    "!pip install xlrd\n",
    "!pip install pathlib \n",
    "!pip install w3lib"
   ]
  },
  {
   "cell_type": "markdown",
   "metadata": {},
   "source": [
    "## 1.2) Download the necessary tokenizers"
   ]
  },
  {
   "cell_type": "code",
   "execution_count": 2,
   "metadata": {},
   "outputs": [
    {
     "name": "stderr",
     "output_type": "stream",
     "text": [
      "[nltk_data] Downloading package punkt to /home/tobias/nltk_data...\n",
      "[nltk_data]   Package punkt is already up-to-date!\n",
      "[nltk_data] Downloading package stopwords to /home/tobias/nltk_data...\n",
      "[nltk_data]   Package stopwords is already up-to-date!\n"
     ]
    },
    {
     "data": {
      "text/plain": [
       "True"
      ]
     },
     "execution_count": 2,
     "metadata": {},
     "output_type": "execute_result"
    }
   ],
   "source": [
    "# import the packages\n",
    "import nltk\n",
    "# download the tokenizers\n",
    "nltk.download(\"punkt\")\n",
    "nltk.download(\"stopwords\")"
   ]
  },
  {
   "cell_type": "markdown",
   "metadata": {},
   "source": [
    "# 2) Run the experiment source code"
   ]
  },
  {
   "cell_type": "markdown",
   "metadata": {},
   "source": [
    "## 2.1) Imports, variables"
   ]
  },
  {
   "cell_type": "code",
   "execution_count": 3,
   "metadata": {},
   "outputs": [],
   "source": [
    "# imports\n",
    "import os\n",
    "import re\n",
    "import csv\n",
    "import sys\n",
    "import time\n",
    "import pickle\n",
    "import argparse\n",
    "import numpy as np\n",
    "import pandas as pd\n",
    "from pathlib import Path\n",
    "from bs4 import BeautifulSoup\n",
    "from collections import Counter\n",
    "from sklearn import preprocessing\n",
    "from nltk.corpus import stopwords\n",
    "from sklearn.model_selection import KFold, StratifiedKFold\n",
    "from sklearn.feature_extraction.text import CountVectorizer\n",
    "from sklearn.metrics import f1_score, confusion_matrix\n",
    "from sklearn.datasets import dump_svmlight_file\n",
    "from sklearn.svm import SVC"
   ]
  },
  {
   "cell_type": "code",
   "execution_count": 45,
   "metadata": {},
   "outputs": [],
   "source": [
    "# beautiful soup will show some errors for web pages with parsing errors\n",
    "# we ignore them for less noise in the code outputs\n",
    "import warnings\n",
    "warnings.filterwarnings(\"ignore\", category=UserWarning, module=\"bs4\")"
   ]
  },
  {
   "cell_type": "code",
   "execution_count": 4,
   "metadata": {},
   "outputs": [],
   "source": [
    "# Constants\n",
    "z1 = 200  # empirical observed standardisation value"
   ]
  },
  {
   "cell_type": "markdown",
   "metadata": {},
   "source": [
    "## 2.2) Lexica"
   ]
  },
  {
   "cell_type": "code",
   "execution_count": 5,
   "metadata": {},
   "outputs": [],
   "source": [
    "# Files\n",
    "lexica_files = {\n",
    "    \"privacy\": \"lexicon/privacy.txt\",\n",
    "    \"contact\": \"lexicon/contact.txt\",\n",
    "    \"stopwords\": \"lexicon/stopwords.txt\",\n",
    "    \"commercial\": \"lexicon/comm_list.txt\"\n",
    "}"
   ]
  },
  {
   "cell_type": "code",
   "execution_count": 6,
   "metadata": {},
   "outputs": [],
   "source": [
    "\"\"\"\n",
    "This function loads a lexicon from a file\n",
    "\"\"\"\n",
    "def load_lexicon_from_file(file_path):\n",
    "    with open(file_path) as file:\n",
    "        lexicon = [word.rstrip() for word in file.readlines()]\n",
    "    return lexicon\n",
    "\n",
    "\n",
    "class Lexicon:\n",
    "    def __init__(self, file_paths):\n",
    "        self.stopwords = set(stopwords.words(\"english\"))\n",
    "        new_words = load_lexicon_from_file(file_paths[\"stopwords\"])\n",
    "        self.stopwords = self.stopwords.union(new_words)\n",
    "        self.commercial = load_lexicon_from_file(file_paths[\"commercial\"])\n",
    "        self.contact = load_lexicon_from_file(file_paths[\"contact\"])\n",
    "        self.privacy = load_lexicon_from_file(file_paths[\"privacy\"])\n",
    "\n",
    "\n",
    "# Load all lexica\n",
    "lexicon = Lexicon(lexica_files)"
   ]
  },
  {
   "cell_type": "markdown",
   "metadata": {},
   "source": [
    "## 2.3) Reporting functions for the scores"
   ]
  },
  {
   "cell_type": "code",
   "execution_count": 7,
   "metadata": {},
   "outputs": [],
   "source": [
    "\"\"\"\n",
    "This function implements the weighted accuracy metric described in Sondhi's study\n",
    "\"\"\"\n",
    "def weighted_accuracy(bias, tn, tp, fn, fp):\n",
    "    return (bias * tp + tn) / (bias * (tp + fn) + tn + fp)"
   ]
  },
  {
   "cell_type": "code",
   "execution_count": 26,
   "metadata": {},
   "outputs": [],
   "source": [
    "\"\"\"\n",
    "This function saves in a file the obtained performance for a concrete cost-factor and feature set\n",
    "\"\"\"\n",
    "def save_results(dataset, features, results, ts):\n",
    "    if not os.path.exists(\"./results\"):\n",
    "        os.makedirs(\"./results\")\n",
    "\n",
    "    results.to_csv(f\"./results/{dataset}_{features}_{ts}.csv\", index=False)"
   ]
  },
  {
   "cell_type": "markdown",
   "metadata": {},
   "source": [
    "## 2.4) Various feature extraction functions\n",
    "The following functions count occurrences of different types of words"
   ]
  },
  {
   "cell_type": "code",
   "execution_count": 9,
   "metadata": {},
   "outputs": [],
   "source": [
    "\"\"\"\n",
    "This function calculates the word-based features as their normalized frequency value\n",
    "\"\"\"\n",
    "def word_features(doc, vectorizer):\n",
    "    vector = vectorizer.transform([doc])\n",
    "    doc_to_list = list(vector.toarray()[0])\n",
    "    maximum = max(doc_to_list)\n",
    "\n",
    "    if maximum:\n",
    "        for val in doc_to_list:\n",
    "            index = doc_to_list.index(val)\n",
    "            doc_to_list[index] = val / maximum\n",
    "\n",
    "    return doc_to_list"
   ]
  },
  {
   "cell_type": "code",
   "execution_count": 33,
   "metadata": {},
   "outputs": [],
   "source": [
    "\"\"\"\n",
    "This function counts the total commercial interest words appearances and returns the normalized frequency total value\n",
    "\"\"\"\n",
    "def count_commercial_keywords(filename, doc, parser=\"html5lib\"):\n",
    "    commercial_words = 0\n",
    "\n",
    "    with open(filename, encoding=\"utf-8\", errors=\"ignore\") as reader:\n",
    "        soup = BeautifulSoup(reader.read(), parser)\n",
    "        text = soup.get_text()\n",
    "        output = text.split(\" \")\n",
    "\n",
    "        for line in output:\n",
    "            for term in lexicon.commercial:\n",
    "                if term in line:\n",
    "                    commercial_words += 1\n",
    "\n",
    "        doc = doc.split(\" \")\n",
    "\n",
    "    return commercial_words / len(doc)"
   ]
  },
  {
   "cell_type": "code",
   "execution_count": 34,
   "metadata": {},
   "outputs": [],
   "source": [
    "\"\"\"\n",
    "This function counts the number of commercial links present in a webpage\n",
    "\"\"\"\n",
    "def count_commercial_links(filename, parser=\"html5lib\"):\n",
    "    with open(filename, encoding=\"utf-8\", errors=\"ignore\") as reader:\n",
    "        soup = BeautifulSoup(reader.read(), parser)\n",
    "        links = Counter([x.get(\"href\") for x in soup.findAll(\"a\")])\n",
    "        links = links.most_common()\n",
    "        commercial = 0\n",
    "\n",
    "        for item in links:\n",
    "            if item[0]:\n",
    "                if any(ext in item[0] for ext in lexicon.commercial):\n",
    "                    commercial += item[1]\n",
    "\n",
    "    return commercial / z1"
   ]
  },
  {
   "cell_type": "code",
   "execution_count": 35,
   "metadata": {},
   "outputs": [],
   "source": [
    "\"\"\"\n",
    "This function calculates the link-based features\n",
    "\"\"\"\n",
    "def count_links(filename, parser=\"html5lib\"):\n",
    "    with open(filename, encoding=\"utf-8\", errors=\"ignore\") as reader:\n",
    "        soup = BeautifulSoup(reader.read(), parser)\n",
    "        links = Counter([x.get(\"href\") for x in soup.findAll(\"a\")])\n",
    "        links = links.most_common()\n",
    "        total = 0\n",
    "        external = 0\n",
    "        contact = 0\n",
    "        privacy = 0\n",
    "\n",
    "        for item in links:\n",
    "            total += item[1]\n",
    "            if item[0]:\n",
    "                if item[0].startswith((\"http\", \"ftp\", \"www\")):\n",
    "                    external += item[1]\n",
    "                if any(ext in item[0] for ext in lexicon.contact):\n",
    "                    contact = 1\n",
    "                if any(ext in item[0] for ext in lexicon.privacy):\n",
    "                    privacy = 1\n",
    "\n",
    "        internal = total - external\n",
    "\n",
    "    return total / z1, external / z1, internal / z1, contact, privacy  # presence of contact and privacy links are boolean features"
   ]
  },
  {
   "cell_type": "code",
   "execution_count": 13,
   "metadata": {},
   "outputs": [],
   "source": [
    "\"\"\"\n",
    "This function implements the whole casuistic of feature combinations\n",
    "\"\"\"\n",
    "def features_calc(docs, corpus, vectorizer, features):\n",
    "    for filename, doc in zip(docs, corpus):\n",
    "        doc_features = []\n",
    "\n",
    "        if features == \"link\" or features == \"comm\" or features == \"allRem\" or features == \"allKeep\":\n",
    "            links_counts = count_links(filename)\n",
    "            doc_features.extend(links_counts)\n",
    "\n",
    "        if features == \"comm\" or features == \"allRem\" or features == \"allKeep\":\n",
    "            commercial_links = count_commercial_links(filename)\n",
    "            commercial_words = count_commercial_keywords(filename, doc)\n",
    "            doc_features.extend([commercial_links, commercial_words])\n",
    "\n",
    "        if features == \"wordsRem\" or features == \"wordsKeep\" or features == \"allRem\" or features == \"allKeep\":\n",
    "            words = word_features(doc, vectorizer)\n",
    "            doc_features.extend(words)\n",
    "\n",
    "        yield doc_features"
   ]
  },
  {
   "cell_type": "code",
   "execution_count": 14,
   "metadata": {},
   "outputs": [],
   "source": [
    "\"\"\"\n",
    "This function generates the vocabulary for a given corpus\n",
    "\"\"\"\n",
    "def generate_vocabulary(corpus, min_df):\n",
    "    vectorizer = CountVectorizer(min_df=min_df)\n",
    "    vectorizer.fit(corpus)\n",
    "    return vectorizer"
   ]
  },
  {
   "cell_type": "code",
   "execution_count": 15,
   "metadata": {},
   "outputs": [],
   "source": [
    "\"\"\"\n",
    "This function normalizes a text to be used as a ML algorithm input\n",
    "\"\"\"\n",
    "def __normalize_text(line, features):\n",
    "    line = re.sub('[^a-zA-Z]', ' ', line)  # remove punctuations\n",
    "    line = line.lower()  # convert to lowercase\n",
    "    line = re.sub(\"&lt;/?.*?&gt;\", \" &lt;&gt; \", line)  # remove tags\n",
    "    line = re.sub(\"(\\\\d|\\\\W)+\", \" \", line)  # remove special char and digits \n",
    "    line = line.split()  # convert string to list\n",
    "\n",
    "    if features != \"wordsKeep\" and features != \"allKeep\":\n",
    "        line = [word for word in line if not word in lexicon.stopwords]  # remove stopwords\n",
    "\n",
    "    line = \" \".join(line)\n",
    "    return line"
   ]
  },
  {
   "cell_type": "code",
   "execution_count": 43,
   "metadata": {},
   "outputs": [],
   "source": [
    "\"\"\"\n",
    "This function extracts clean text from a given HTML file\n",
    "\"\"\"\n",
    "def preprocess_text(filename, features, parser=\"html5lib\"):\n",
    "    with open(filename, encoding=\"utf-8\", errors=\"ignore\") as reader:\n",
    "        soup = BeautifulSoup(reader.read(), parser)\n",
    "        text = soup.get_text()\n",
    "        output = text.split(\"\\n\")\n",
    "        lines = []\n",
    "\n",
    "        for line in output:\n",
    "            line = __normalize_text(line, features)\n",
    "            lines.append(line)\n",
    "\n",
    "        doc = \" \".join(lines)\n",
    "        return doc"
   ]
  },
  {
   "cell_type": "code",
   "execution_count": 17,
   "metadata": {},
   "outputs": [],
   "source": [
    "\"\"\"\n",
    "This function generates an entire clean corpus from HTML files\n",
    "\"\"\"\n",
    "def generate_corpus(docs, features):\n",
    "    corpus = []\n",
    "\n",
    "    for doc in docs:\n",
    "        doc = preprocess_text(doc, features)\n",
    "        corpus.append(doc)\n",
    "\n",
    "    return corpus"
   ]
  },
  {
   "cell_type": "markdown",
   "metadata": {},
   "source": [
    "## 2.5) Data loading functions for different data sets"
   ]
  },
  {
   "cell_type": "code",
   "execution_count": 18,
   "metadata": {},
   "outputs": [],
   "source": [
    "\"\"\"\n",
    "This function loads the CLEF dataset\n",
    "\"\"\"\n",
    "def data_clef():\n",
    "    if not os.path.exists(\"./datasets/CLEF/clef2018collection\"):\n",
    "        print(\"To perform these experiments you first need to download clef2018collection\")\n",
    "        sys.exit(1)\n",
    "\n",
    "    X = []\n",
    "    Y = []\n",
    "\n",
    "    with open(\"./datasets/CLEF/CLEF2018_qtrust_20180914.txt\", newline=\"\") as assessments:\n",
    "        reader = csv.reader(assessments, delimiter=\" \")\n",
    "        for row in reader:\n",
    "            web = row[2]\n",
    "            rating = int(row[3])\n",
    "\n",
    "            if rating == 0 or rating == 1 or rating == 2 or rating == 3:  # relabelling process \n",
    "                for filename in Path(\"./datasets/CLEF/clef2018collection\").rglob(\n",
    "                        web):  # this function finds recursively a file in an entire path\n",
    "                    X.append(filename)\n",
    "                    break\n",
    "                Y.append(1)\n",
    "\n",
    "            elif rating == 7 or rating == 8 or rating == 9 or rating == 10:  # relabelling process \n",
    "                for filename in Path(\"./datasets/CLEF/clef2018collection\").rglob(web):\n",
    "                    X.append(filename)\n",
    "                    break\n",
    "                Y.append(-1)\n",
    "\n",
    "    return np.array(X), np.array(Y)"
   ]
  },
  {
   "cell_type": "code",
   "execution_count": 19,
   "metadata": {},
   "outputs": [],
   "source": [
    "\"\"\"\n",
    "This function loads the Schwarz dataset\n",
    "\"\"\"\n",
    "def data_schwarz():\n",
    "    df = pd.read_excel(\"./datasets/Schwarz/web_credibility_relabeled.xlsx\")\n",
    "    ratings = df[\"Likert Rating\"]\n",
    "    urls = df[\"URL\"]\n",
    "    root = os.getcwd()\n",
    "    path = \"./datasets/Schwarz/CachedPages\"\n",
    "    os.chdir(path)\n",
    "    cached_pages_dir = os.getcwd()\n",
    "    X = []\n",
    "    Y = []\n",
    "\n",
    "    for url, rating in zip(urls, ratings):\n",
    "        try:\n",
    "            url = url.replace(\"http://\", \"\")\n",
    "            url = url.split(\"/\")\n",
    "            if url[-1]:  # this case deals with urls like 'www.adamofficial.com/us/home'\n",
    "                url = \"/\".join(url[:-1])\n",
    "                os.chdir(url)\n",
    "                f = [f for f in os.listdir() if re.match(url[-1] + '*', f) and os.path.isfile(f)]\n",
    "            else:\n",
    "                url = \"/\".join(url)\n",
    "                os.chdir(url)\n",
    "                f = [f for f in os.listdir() if re.match('index*', f) and os.path.isfile(f)]\n",
    "\n",
    "            X.append(os.path.join(os.getcwd(), f[0]))\n",
    "            Y.append(rating)\n",
    "            os.chdir(cached_pages_dir)\n",
    "        except:\n",
    "            pass\n",
    "\n",
    "    os.chdir(root)\n",
    "    return np.array(X), np.array(Y)"
   ]
  },
  {
   "cell_type": "code",
   "execution_count": 20,
   "metadata": {},
   "outputs": [],
   "source": [
    "\"\"\"\n",
    "This function loads the Sondhi dataset\n",
    "\"\"\"\n",
    "def data_sondhi():\n",
    "    path1 = \"./datasets/Sondhi/reliable\"\n",
    "    root = os.getcwd()\n",
    "    os.chdir(path1)\n",
    "    arr1 = os.listdir(\".\")\n",
    "    path2 = \"../unreliable\"\n",
    "    os.chdir(path2)\n",
    "    arr2 = os.listdir('.')\n",
    "    X = []\n",
    "    Y = []\n",
    "\n",
    "    for rel, unrel in zip(arr1, arr2):\n",
    "        os.chdir(\"../reliable\")\n",
    "        X.append(\"./datasets/Sondhi/reliable/\" + rel)\n",
    "        Y.append(-1)\n",
    "        os.chdir(\"../unreliable\")\n",
    "        X.append(\"./datasets/Sondhi/unreliable/\" + unrel)\n",
    "        Y.append(1)\n",
    "\n",
    "    os.chdir(root)\n",
    "    return np.array(X), np.array(Y)"
   ]
  },
  {
   "cell_type": "markdown",
   "metadata": {},
   "source": [
    "## 2.6) Model training function"
   ]
  },
  {
   "cell_type": "code",
   "execution_count": 30,
   "metadata": {},
   "outputs": [],
   "source": [
    "def train(dataset=\"Sondhi\", features=\"link\", dump=True, standard=True, cost_factors=[1, 2, 3], seed=1, show_iterations=False):\n",
    "    if dataset == \"Sondhi\":\n",
    "        X, Y = data_sondhi()\n",
    "        n = 5\n",
    "        min_df = 1\n",
    "\n",
    "    elif dataset == \"Schwarz\":\n",
    "        X, Y = data_schwarz()\n",
    "        n = 2\n",
    "        min_df = 0.5\n",
    "\n",
    "    elif dataset == \"CLEF\":\n",
    "        X, Y = data_clef()\n",
    "        n = 5\n",
    "        min_df = 0.4\n",
    "\n",
    "    else:\n",
    "        print(\"Unknown dataset\")\n",
    "        return\n",
    "\n",
    "    np.random.seed(seed)  # reproducibility seed\n",
    "    skf = StratifiedKFold(n_splits=n)  # stratified k-fold: preserves the percentage of samples for each class\n",
    "    ts = str(time.time())\n",
    "    print(f\"Training on {dataset} with standard={standard}, features={features}\")\n",
    "    print(\"EXPERIMENT ID: \", ts)  # we use the timestamp as experiment id\n",
    "\n",
    "    # store the performance results in a dataframe\n",
    "    results = pd.DataFrame()\n",
    "    \"\"\"\n",
    "    For each cost-factor, we perform a n-fold cross validation for the feature set previously selected\n",
    "    \"\"\"\n",
    "    for cost_factor in cost_factors:\n",
    "\n",
    "        accuracies, f1_micro, f1_rel, f1_unrel = [], [], [], []\n",
    "        it = 1\n",
    "\n",
    "        for train_index, test_index in skf.split(X, Y):\n",
    "\n",
    "            data_train = X[train_index]\n",
    "            corpus_train = generate_corpus(data_train, features)\n",
    "            vectorizer = generate_vocabulary(corpus_train, min_df)  # for each fold we reset vocabulary associated to training set\n",
    "\n",
    "            if dump:\n",
    "                if not os.path.exists('./models'):\n",
    "                    os.makedirs('./models')\n",
    "\n",
    "                pickle.dump(vectorizer, open(\n",
    "                    f\"models/vocabulary_{dataset}_{features}_it{it}_cost_fact{cost_factor}_{ts}.pkl\", \"wb\"))\n",
    "\n",
    "            data_train = features_calc(data_train, corpus_train, vectorizer, features)\n",
    "            target_train = Y[train_index]\n",
    "\n",
    "            if standard:\n",
    "                list_data_train = list(data_train)\n",
    "                scaler_x = preprocessing.StandardScaler().fit(list_data_train)\n",
    "\n",
    "                if dump:\n",
    "                    pickle.dump(scaler_x, open(\n",
    "                        f\"models/scaler_{dataset}_{features}_it{it}_cost_fact{cost_factor}_{ts}.pkl\", \"wb\"))\n",
    "\n",
    "                data_train = scaler_x.transform(list_data_train)\n",
    "\n",
    "            elif not standard:\n",
    "                data_train = np.array(list(data_train))\n",
    "                nsamples, nx = data_train.shape\n",
    "                data_train = data_train.reshape((nsamples, nx))\n",
    "\n",
    "            if not os.path.exists('./train_data'):\n",
    "                os.makedirs('./train_data')\n",
    "\n",
    "            dump_svmlight_file(data_train, target_train, f\"train_data/train_{ts}.txt\")\n",
    "\n",
    "            data_test = X[test_index]\n",
    "            corpus_test = generate_corpus(data_test, features)\n",
    "            data_test = features_calc(data_test, corpus_test, vectorizer, features)\n",
    "            target_test = Y[test_index]\n",
    "\n",
    "            if standard:\n",
    "                data_test = scaler_x.transform(list(data_test))\n",
    "\n",
    "            elif not standard:\n",
    "                data_test = np.array(list(data_test))\n",
    "                nsamples, nx = data_test.shape\n",
    "                data_test = data_test.reshape((nsamples, nx))\n",
    "\n",
    "            dump_svmlight_file(data_test, target_test, f\"train_data/test_{ts}.txt\")\n",
    "\n",
    "            if show_iterations:\n",
    "                print(\"Training it=\", it, \"cost-factor=\", cost_factor)\n",
    "                \n",
    "            clf = SVC(gamma=\"auto\", class_weight={-1:1, 1:cost_factor})\n",
    "            clf.fit(data_train, target_train)\n",
    "\n",
    "            if dump:\n",
    "                filename = f\"models/model_{dataset}_{features}_it{it}_cost_fact{cost_factor}_{ts}.dat\"\n",
    "                pickle.dump(clf, open(filename, \"wb\"))\n",
    "\n",
    "            if show_iterations:\n",
    "                print(\"Predicting it=\", it, \"cost-factor=\", cost_factor)\n",
    "                \n",
    "            predictions = clf.predict(data_test)\n",
    "\n",
    "            tn, fp, fn, tp = confusion_matrix(target_test, predictions).ravel()\n",
    "\n",
    "            accuracies.append(weighted_accuracy(cost_factor, tn, tp, fn, fp) * 100)\n",
    "            f1_micro.append(f1_score(target_test, predictions, average=\"micro\"))  # micro: calculates metrics totally by counting the total true positives, false negatives and false positives\n",
    "            cl = f1_score(target_test, predictions, average=None)  # none: returns scores for each class\n",
    "            f1_rel.append(cl[0])\n",
    "            f1_unrel.append(cl[1])\n",
    "            it += 1\n",
    "\n",
    "        # persist the results\n",
    "        entry = pd.DataFrame([{\n",
    "            \"dataset\": dataset, \n",
    "            \"features\": features, \n",
    "            \"standardization\": standard,\n",
    "            \"cost factor\": cost_factor, \n",
    "            \"weighted accuracy\": np.mean(accuracies), \n",
    "            \"f1-score\": np.mean(f1_micro), \n",
    "            \"credible f1-score\": np.mean(f1_rel), \n",
    "            \"non-credible f1-score\": np.mean(f1_unrel)\n",
    "        }])\n",
    "        \n",
    "        results = pd.concat([results, entry], axis=0)\n",
    "            \n",
    "        print(f\"Training finished with cost_factor={cost_factor}\")\n",
    "        print(\"The weighted accuracy is\", np.mean(accuracies))\n",
    "        print(\"The f1-score is\", np.mean(f1_micro))\n",
    "        print(\"The credible f1-score is\", np.mean(f1_rel))\n",
    "        print(\"The non-credible f1-score is\", np.mean(f1_unrel))\n",
    "        \n",
    "    save_results(dataset, features, results, ts)"
   ]
  },
  {
   "cell_type": "markdown",
   "metadata": {},
   "source": [
    "# 3) Run the experiment"
   ]
  },
  {
   "cell_type": "markdown",
   "metadata": {},
   "source": [
    "## Experiment parameters\n",
    "There exist three options for the dataset:\n",
    " - Sondhi\n",
    " - Schwarz\n",
    " - CLEF\n",
    " \n",
    "Different sets of features can be used:\n",
    " - link\n",
    " - comm \n",
    " - wordsRem\n",
    " - wordsKeep\n",
    " - allRem\n",
    " - allKeep\n",
    " \n",
    "The training can be done with and without saving the models in the ./models folder:\n",
    " - True (with saving)\n",
    " - False (without saving)\n",
    " \n",
    "Standardization can be performed\n",
    " - True (with standardization)\n",
    " - False (without standardization)"
   ]
  },
  {
   "cell_type": "code",
   "execution_count": 22,
   "metadata": {},
   "outputs": [],
   "source": [
    "seed = 1\n",
    "features_options = [\"link\", \"comm\", \"wordsRem\", \"wordsKeep\", \"allRem\", \"allKeep\"]\n",
    "dump = False"
   ]
  },
  {
   "cell_type": "markdown",
   "metadata": {},
   "source": [
    "## 3.1) Reproduce the Sondhi dataset experiments"
   ]
  },
  {
   "cell_type": "code",
   "execution_count": 23,
   "metadata": {},
   "outputs": [],
   "source": [
    "dataset = \"Sondhi\""
   ]
  },
  {
   "cell_type": "markdown",
   "metadata": {},
   "source": [
    "### 3.1.1) Reproduce Sondhi results with standardization"
   ]
  },
  {
   "cell_type": "code",
   "execution_count": 24,
   "metadata": {},
   "outputs": [
    {
     "name": "stdout",
     "output_type": "stream",
     "text": [
      "Training on Sondhi with standard=True, features=link\n",
      "EXPERIMENT ID:  1673797809.9101937\n",
      "Training finished with cost_factor=1\n",
      "The weighted accuracy is 73.61111111111111\n",
      "The f1-score is 0.736111111111111\n",
      "The credible f1-score is 0.690005120327701\n",
      "The non-credible f1-score is 0.7701595904847937\n",
      "Training finished with cost_factor=2\n",
      "The weighted accuracy is 79.81481481481481\n",
      "The f1-score is 0.7333333333333333\n",
      "The credible f1-score is 0.6684118655068441\n",
      "The non-credible f1-score is 0.7765810528937455\n",
      "Training finished with cost_factor=3\n",
      "The weighted accuracy is 85.13888888888889\n",
      "The f1-score is 0.7416666666666667\n",
      "The credible f1-score is 0.6682052398400034\n",
      "The non-credible f1-score is 0.7882645154898563\n",
      "Training on Sondhi with standard=True, features=comm\n",
      "EXPERIMENT ID:  1673798052.6726968\n",
      "Training finished with cost_factor=1\n",
      "The weighted accuracy is 76.94444444444444\n",
      "The f1-score is 0.7694444444444445\n",
      "The credible f1-score is 0.7575114622963615\n",
      "The non-credible f1-score is 0.7800448089921774\n",
      "Training finished with cost_factor=2\n",
      "The weighted accuracy is 81.66666666666666\n",
      "The f1-score is 0.7416666666666666\n",
      "The credible f1-score is 0.6647018000433744\n",
      "The non-credible f1-score is 0.7893841042678251\n",
      "Training finished with cost_factor=3\n",
      "The weighted accuracy is 85.97222222222221\n",
      "The f1-score is 0.7194444444444446\n",
      "The credible f1-score is 0.6093277554853581\n",
      "The non-credible f1-score is 0.7810354546530727\n",
      "Training on Sondhi with standard=True, features=wordsRem\n",
      "EXPERIMENT ID:  1673798534.769376\n",
      "Training finished with cost_factor=1\n",
      "The weighted accuracy is 61.38888888888889\n",
      "The f1-score is 0.6138888888888889\n",
      "The credible f1-score is 0.37976911976911976\n",
      "The non-credible f1-score is 0.7185906120023766\n",
      "Training finished with cost_factor=2\n",
      "The weighted accuracy is 74.81481481481481\n",
      "The f1-score is 0.6250000000000001\n",
      "The credible f1-score is 0.3888311688311688\n",
      "The non-credible f1-score is 0.7281506939854593\n",
      "Training finished with cost_factor=3\n",
      "The weighted accuracy is 81.52777777777779\n",
      "The f1-score is 0.6305555555555556\n",
      "The credible f1-score is 0.3982845061914829\n",
      "The non-credible f1-score is 0.7321227382487092\n",
      "Training on Sondhi with standard=True, features=wordsKeep\n",
      "EXPERIMENT ID:  1673799272.9963543\n",
      "Training finished with cost_factor=1\n",
      "The weighted accuracy is 59.44444444444444\n",
      "The f1-score is 0.5944444444444444\n",
      "The credible f1-score is 0.3137372984361073\n",
      "The non-credible f1-score is 0.7112491850403331\n",
      "Training finished with cost_factor=2\n",
      "The weighted accuracy is 73.14814814814815\n",
      "The f1-score is 0.5972222222222221\n",
      "The credible f1-score is 0.31506620209059233\n",
      "The non-credible f1-score is 0.7138117942424296\n",
      "Training finished with cost_factor=3\n",
      "The weighted accuracy is 79.99999999999999\n",
      "The f1-score is 0.6\n",
      "The credible f1-score is 0.3207132609141218\n",
      "The non-credible f1-score is 0.715459014558147\n",
      "Training on Sondhi with standard=True, features=allRem\n",
      "EXPERIMENT ID:  1673800078.1764727\n",
      "Training finished with cost_factor=1\n",
      "The weighted accuracy is 61.38888888888889\n",
      "The f1-score is 0.6138888888888889\n",
      "The credible f1-score is 0.37976911976911976\n",
      "The non-credible f1-score is 0.7185906120023766\n",
      "Training finished with cost_factor=2\n",
      "The weighted accuracy is 75.0\n",
      "The f1-score is 0.6277777777777779\n",
      "The credible f1-score is 0.3968045907580791\n",
      "The non-credible f1-score is 0.7295484808229666\n",
      "Training finished with cost_factor=3\n",
      "The weighted accuracy is 81.52777777777779\n",
      "The f1-score is 0.6305555555555556\n",
      "The credible f1-score is 0.3982845061914829\n",
      "The non-credible f1-score is 0.7321227382487092\n",
      "Training on Sondhi with standard=True, features=allKeep\n",
      "EXPERIMENT ID:  1673801238.5662608\n",
      "Training finished with cost_factor=1\n",
      "The weighted accuracy is 59.44444444444444\n",
      "The f1-score is 0.5944444444444444\n",
      "The credible f1-score is 0.3137372984361073\n",
      "The non-credible f1-score is 0.7112491850403331\n",
      "Training finished with cost_factor=2\n",
      "The weighted accuracy is 73.14814814814815\n",
      "The f1-score is 0.5972222222222221\n",
      "The credible f1-score is 0.31506620209059233\n",
      "The non-credible f1-score is 0.7138117942424296\n",
      "Training finished with cost_factor=3\n",
      "The weighted accuracy is 79.99999999999999\n",
      "The f1-score is 0.6\n",
      "The credible f1-score is 0.3207132609141218\n",
      "The non-credible f1-score is 0.715459014558147\n"
     ]
    }
   ],
   "source": [
    "standard = True\n",
    "for features in features_options:\n",
    "    train(dataset, features, dump, standard, seed=seed)"
   ]
  },
  {
   "cell_type": "markdown",
   "metadata": {},
   "source": [
    "### 3.1.2) Reproduce Sondhi results without standardization"
   ]
  },
  {
   "cell_type": "code",
   "execution_count": null,
   "metadata": {},
   "outputs": [],
   "source": [
    "standard = False\n",
    "for features in features_options:\n",
    "    train(dataset, features, dump, standard, seed=seed)"
   ]
  },
  {
   "cell_type": "markdown",
   "metadata": {},
   "source": [
    "## 3.2) Reproduce the Schwarz dataset experiments"
   ]
  },
  {
   "cell_type": "code",
   "execution_count": 31,
   "metadata": {},
   "outputs": [],
   "source": [
    "dataset = \"Schwarz\""
   ]
  },
  {
   "cell_type": "markdown",
   "metadata": {},
   "source": [
    "### 3.2.1) Reproduce Schwarz results with standardization"
   ]
  },
  {
   "cell_type": "code",
   "execution_count": 46,
   "metadata": {},
   "outputs": [
    {
     "name": "stdout",
     "output_type": "stream",
     "text": [
      "Training on Schwarz with standard=True, features=link\n",
      "EXPERIMENT ID:  1673803119.711432\n",
      "Training finished with cost_factor=1\n",
      "The weighted accuracy is 93.75\n",
      "The f1-score is 0.9375\n",
      "The credible f1-score is 0.9676989676989677\n",
      "The non-credible f1-score is 0.0\n",
      "Training finished with cost_factor=2\n",
      "The weighted accuracy is 88.26135105204872\n",
      "The f1-score is 0.9375\n",
      "The credible f1-score is 0.9676989676989677\n",
      "The non-credible f1-score is 0.0\n",
      "Training finished with cost_factor=3\n",
      "The weighted accuracy is 83.399209486166\n",
      "The f1-score is 0.9375\n",
      "The credible f1-score is 0.9676989676989677\n",
      "The non-credible f1-score is 0.0\n",
      "Training on Schwarz with standard=True, features=comm\n",
      "EXPERIMENT ID:  1673803212.5468662\n",
      "Training finished with cost_factor=1\n",
      "The weighted accuracy is 93.75\n",
      "The f1-score is 0.9375\n",
      "The credible f1-score is 0.9676989676989677\n",
      "The non-credible f1-score is 0.0\n",
      "Training finished with cost_factor=2\n",
      "The weighted accuracy is 88.26135105204872\n",
      "The f1-score is 0.9375\n",
      "The credible f1-score is 0.9676989676989677\n",
      "The non-credible f1-score is 0.0\n",
      "Training finished with cost_factor=3\n",
      "The weighted accuracy is 83.399209486166\n",
      "The f1-score is 0.9375\n",
      "The credible f1-score is 0.9676989676989677\n",
      "The non-credible f1-score is 0.0\n",
      "Training on Schwarz with standard=True, features=wordsRem\n",
      "EXPERIMENT ID:  1673803399.0298438\n",
      "Training finished with cost_factor=1\n",
      "The weighted accuracy is 93.75\n",
      "The f1-score is 0.9375\n",
      "The credible f1-score is 0.9676989676989677\n",
      "The non-credible f1-score is 0.0\n",
      "Training finished with cost_factor=2\n",
      "The weighted accuracy is 90.58693244739757\n",
      "The f1-score is 0.9375\n",
      "The credible f1-score is 0.9668421052631578\n",
      "The non-credible f1-score is 0.45\n",
      "Training finished with cost_factor=3\n",
      "The weighted accuracy is 87.79644268774703\n",
      "The f1-score is 0.9375\n",
      "The credible f1-score is 0.9668421052631578\n",
      "The non-credible f1-score is 0.45\n",
      "Training on Schwarz with standard=True, features=wordsKeep\n",
      "EXPERIMENT ID:  1673803448.4237761\n",
      "Training finished with cost_factor=1\n",
      "The weighted accuracy is 91.25\n",
      "The f1-score is 0.9125000000000001\n",
      "The credible f1-score is 0.9542036910457963\n",
      "The non-credible f1-score is 0.0\n",
      "Training finished with cost_factor=2\n",
      "The weighted accuracy is 85.88039867109634\n",
      "The f1-score is 0.9125000000000001\n",
      "The credible f1-score is 0.9542036910457963\n",
      "The non-credible f1-score is 0.0\n",
      "Training finished with cost_factor=3\n",
      "The weighted accuracy is 81.12648221343875\n",
      "The f1-score is 0.9125000000000001\n",
      "The credible f1-score is 0.9542036910457963\n",
      "The non-credible f1-score is 0.0\n",
      "Training on Schwarz with standard=True, features=allRem\n",
      "EXPERIMENT ID:  1673803497.450586\n",
      "Training finished with cost_factor=1\n",
      "The weighted accuracy is 93.75\n",
      "The f1-score is 0.9375\n",
      "The credible f1-score is 0.9676989676989677\n",
      "The non-credible f1-score is 0.0\n",
      "Training finished with cost_factor=2\n",
      "The weighted accuracy is 90.58693244739757\n",
      "The f1-score is 0.9375\n",
      "The credible f1-score is 0.9668421052631578\n",
      "The non-credible f1-score is 0.45\n",
      "Training finished with cost_factor=3\n",
      "The weighted accuracy is 87.79644268774703\n",
      "The f1-score is 0.9375\n",
      "The credible f1-score is 0.9668421052631578\n",
      "The non-credible f1-score is 0.45\n",
      "Training on Schwarz with standard=True, features=allKeep\n",
      "EXPERIMENT ID:  1673803684.991737\n",
      "Training finished with cost_factor=1\n",
      "The weighted accuracy is 91.25\n",
      "The f1-score is 0.9125000000000001\n",
      "The credible f1-score is 0.9542036910457963\n",
      "The non-credible f1-score is 0.0\n",
      "Training finished with cost_factor=2\n",
      "The weighted accuracy is 85.88039867109634\n",
      "The f1-score is 0.9125000000000001\n",
      "The credible f1-score is 0.9542036910457963\n",
      "The non-credible f1-score is 0.0\n",
      "Training finished with cost_factor=3\n",
      "The weighted accuracy is 81.12648221343875\n",
      "The f1-score is 0.9125000000000001\n",
      "The credible f1-score is 0.9542036910457963\n",
      "The non-credible f1-score is 0.0\n"
     ]
    }
   ],
   "source": [
    "standard = True\n",
    "for features in features_options:\n",
    "    train(dataset, features, dump, standard, seed=seed)"
   ]
  },
  {
   "cell_type": "markdown",
   "metadata": {},
   "source": [
    "### 3.2.2) Reproduce Schwarz results without standardization"
   ]
  },
  {
   "cell_type": "code",
   "execution_count": null,
   "metadata": {},
   "outputs": [],
   "source": [
    "standard = False\n",
    "for features in features_options:\n",
    "    train(dataset, features, dump, standard, seed=seed)"
   ]
  },
  {
   "cell_type": "markdown",
   "metadata": {},
   "source": [
    "# 4) Run an experiment with a different seed"
   ]
  },
  {
   "cell_type": "code",
   "execution_count": 47,
   "metadata": {},
   "outputs": [
    {
     "name": "stdout",
     "output_type": "stream",
     "text": [
      "Training on Schwarz with standard=True, features=link\n",
      "EXPERIMENT ID:  1673803872.2660673\n",
      "Training finished with cost_factor=1\n",
      "The weighted accuracy is 93.75\n",
      "The f1-score is 0.9375\n",
      "The credible f1-score is 0.9676989676989677\n",
      "The non-credible f1-score is 0.0\n",
      "Training finished with cost_factor=2\n",
      "The weighted accuracy is 88.26135105204872\n",
      "The f1-score is 0.9375\n",
      "The credible f1-score is 0.9676989676989677\n",
      "The non-credible f1-score is 0.0\n",
      "Training finished with cost_factor=3\n",
      "The weighted accuracy is 83.399209486166\n",
      "The f1-score is 0.9375\n",
      "The credible f1-score is 0.9676989676989677\n",
      "The non-credible f1-score is 0.0\n"
     ]
    }
   ],
   "source": [
    "seed = 15012023\n",
    "train(\"Schwarz\", \"link\", False, True, seed=seed)"
   ]
  },
  {
   "cell_type": "code",
   "execution_count": null,
   "metadata": {},
   "outputs": [],
   "source": []
  }
 ],
 "metadata": {
  "kernelspec": {
   "display_name": "Python 3",
   "language": "python",
   "name": "python3"
  },
  "language_info": {
   "codemirror_mode": {
    "name": "ipython",
    "version": 3
   },
   "file_extension": ".py",
   "mimetype": "text/x-python",
   "name": "python",
   "nbconvert_exporter": "python",
   "pygments_lexer": "ipython3",
   "version": "3.8.10"
  }
 },
 "nbformat": 4,
 "nbformat_minor": 5
}
