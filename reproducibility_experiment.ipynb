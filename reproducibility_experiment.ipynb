{
 "cells": [
  {
   "cell_type": "markdown",
   "id": "3514a197",
   "metadata": {},
   "source": [
    "# 1) Initialize the project setup"
   ]
  },
  {
   "cell_type": "markdown",
   "id": "b04cbcaf",
   "metadata": {},
   "source": [
    "## 1.1) Install the python packges"
   ]
  },
  {
   "cell_type": "code",
   "execution_count": 1,
   "id": "a5f6b272",
   "metadata": {},
   "outputs": [
    {
     "name": "stdout",
     "output_type": "stream",
     "text": [
      "Defaulting to user installation because normal site-packages is not writeable\n",
      "Requirement already satisfied: bs4 in /home/tobsel/.local/lib/python3.10/site-packages (0.0.1)\n",
      "Requirement already satisfied: beautifulsoup4 in /home/tobsel/.local/lib/python3.10/site-packages (from bs4) (4.9.3)\n",
      "Requirement already satisfied: soupsieve>1.2 in /home/tobsel/.local/lib/python3.10/site-packages (from beautifulsoup4->bs4) (2.3.2.post1)\n",
      "Defaulting to user installation because normal site-packages is not writeable\n",
      "Requirement already satisfied: nltk in /home/tobsel/.local/lib/python3.10/site-packages (3.5)\n",
      "Requirement already satisfied: click in /usr/lib/python3/dist-packages (from nltk) (8.0.3)\n",
      "Requirement already satisfied: regex in /home/tobsel/.local/lib/python3.10/site-packages (from nltk) (2022.10.31)\n",
      "Requirement already satisfied: tqdm in /home/tobsel/.local/lib/python3.10/site-packages (from nltk) (4.64.1)\n",
      "Requirement already satisfied: joblib in /home/tobsel/.local/lib/python3.10/site-packages (from nltk) (1.2.0)\n",
      "Defaulting to user installation because normal site-packages is not writeable\n",
      "Requirement already satisfied: html5lib in /home/tobsel/.local/lib/python3.10/site-packages (1.1)\n",
      "Requirement already satisfied: six>=1.9 in /usr/lib/python3/dist-packages (from html5lib) (1.16.0)\n",
      "Requirement already satisfied: webencodings in /home/tobsel/.local/lib/python3.10/site-packages (from html5lib) (0.5.1)\n",
      "Defaulting to user installation because normal site-packages is not writeable\n",
      "Requirement already satisfied: pickle-mixin in /home/tobsel/.local/lib/python3.10/site-packages (1.0.2)\n",
      "Defaulting to user installation because normal site-packages is not writeable\n",
      "Collecting argparse\n",
      "  Using cached argparse-1.4.0-py2.py3-none-any.whl (23 kB)\n",
      "Installing collected packages: argparse\n",
      "Successfully installed argparse-1.4.0\n",
      "Defaulting to user installation because normal site-packages is not writeable\n",
      "Requirement already satisfied: numpy in /home/tobsel/.local/lib/python3.10/site-packages (1.23.4)\n",
      "Defaulting to user installation because normal site-packages is not writeable\n",
      "Requirement already satisfied: pandas in /home/tobsel/.local/lib/python3.10/site-packages (1.5.1)\n",
      "Requirement already satisfied: python-dateutil>=2.8.1 in /home/tobsel/.local/lib/python3.10/site-packages (from pandas) (2.8.2)\n",
      "Requirement already satisfied: numpy>=1.21.0 in /home/tobsel/.local/lib/python3.10/site-packages (from pandas) (1.23.4)\n",
      "Requirement already satisfied: pytz>=2020.1 in /usr/lib/python3/dist-packages (from pandas) (2022.1)\n",
      "Requirement already satisfied: six>=1.5 in /usr/lib/python3/dist-packages (from python-dateutil>=2.8.1->pandas) (1.16.0)\n",
      "Defaulting to user installation because normal site-packages is not writeable\n",
      "Requirement already satisfied: scikit-learn in /home/tobsel/.local/lib/python3.10/site-packages (1.1.3)\n",
      "Requirement already satisfied: joblib>=1.0.0 in /home/tobsel/.local/lib/python3.10/site-packages (from scikit-learn) (1.2.0)\n",
      "Requirement already satisfied: threadpoolctl>=2.0.0 in /home/tobsel/.local/lib/python3.10/site-packages (from scikit-learn) (3.1.0)\n",
      "Requirement already satisfied: numpy>=1.17.3 in /home/tobsel/.local/lib/python3.10/site-packages (from scikit-learn) (1.23.4)\n",
      "Requirement already satisfied: scipy>=1.3.2 in /home/tobsel/.local/lib/python3.10/site-packages (from scikit-learn) (1.9.3)\n",
      "Defaulting to user installation because normal site-packages is not writeable\n",
      "Requirement already satisfied: xlrd in /home/tobsel/.local/lib/python3.10/site-packages (1.2.0)\n",
      "Defaulting to user installation because normal site-packages is not writeable\n",
      "Requirement already satisfied: pathlib in /home/tobsel/.local/lib/python3.10/site-packages (1.0.1)\n",
      "Defaulting to user installation because normal site-packages is not writeable\n",
      "Requirement already satisfied: w3lib in /home/tobsel/.local/lib/python3.10/site-packages (1.21.0)\n",
      "Requirement already satisfied: six>=1.4.1 in /usr/lib/python3/dist-packages (from w3lib) (1.16.0)\n"
     ]
    }
   ],
   "source": [
    "!pip install bs4\n",
    "!pip install nltk \n",
    "!pip install html5lib\n",
    "!pip install pickle-mixin \n",
    "!pip install argparse \n",
    "!pip install numpy \n",
    "!pip install pandas \n",
    "!pip install scikit-learn \n",
    "!pip install xlrd\n",
    "!pip install pathlib \n",
    "!pip install w3lib"
   ]
  },
  {
   "cell_type": "markdown",
   "id": "b6533e1a",
   "metadata": {},
   "source": [
    "## 1.1) Install the svm project"
   ]
  },
  {
   "cell_type": "code",
   "execution_count": 6,
   "id": "2b3fc6b8",
   "metadata": {},
   "outputs": [
    {
     "name": "stdout",
     "output_type": "stream",
     "text": [
      "fatal: destination path './source/python3-svmlight' already exists and is not an empty directory.\n",
      "/home/tobsel/PycharmProjects/health-content-reliability/./source/python3-svmlight/setup.py:3: DeprecationWarning: The distutils package is deprecated and slated for removal in Python 3.12. Use setuptools or check PEP 632 for potential alternatives\n",
      "  from distutils.core import setup, Extension\n",
      "Traceback (most recent call last):\n",
      "  File \"/home/tobsel/PycharmProjects/health-content-reliability/./source/python3-svmlight/setup.py\", line 7, in <module>\n",
      "    lib_sources.remove('lib/svm_loqo.c') # this is an alternate backend for SVM-Light; only\n",
      "ValueError: list.remove(x): x not in list\n"
     ]
    }
   ],
   "source": [
    "!git clone https://github.com/jeremija/python3-svmlight.git ./source/python3-svmlight\n",
    "!chmod +x ./source/python3-svmlight/setup.py\n",
    "!python3 ./source/python3-svmlight/setup.py build\n",
    "!python3 ./source/python3-svmlight/setup.py install"
   ]
  },
  {
   "cell_type": "markdown",
   "id": "836148db",
   "metadata": {},
   "source": [
    "## 1.2) Download the necessary tokenizers"
   ]
  },
  {
   "cell_type": "code",
   "execution_count": 1,
   "id": "426647c9",
   "metadata": {},
   "outputs": [
    {
     "name": "stderr",
     "output_type": "stream",
     "text": [
      "[nltk_data] Downloading package punkt to /home/tobsel/nltk_data...\n",
      "[nltk_data]   Package punkt is already up-to-date!\n",
      "[nltk_data] Downloading package stopwords to /home/tobsel/nltk_data...\n",
      "[nltk_data]   Package stopwords is already up-to-date!\n"
     ]
    },
    {
     "data": {
      "text/plain": [
       "True"
      ]
     },
     "execution_count": 1,
     "metadata": {},
     "output_type": "execute_result"
    }
   ],
   "source": [
    "# import the packages\n",
    "import nltk\n",
    "# download the tokenizers\n",
    "nltk.download(\"punkt\")\n",
    "nltk.download(\"stopwords\")"
   ]
  },
  {
   "cell_type": "markdown",
   "id": "ff8fa95b",
   "metadata": {},
   "source": [
    "## 1.3) Import the training module"
   ]
  },
  {
   "cell_type": "code",
   "execution_count": 8,
   "id": "785f6852",
   "metadata": {},
   "outputs": [],
   "source": [
    "import sys  \n",
    "sys.path.insert(0, './source')\n",
    "sys.path.insert(0, './source/python3-svmlight')\n",
    "\n",
    "import train"
   ]
  },
  {
   "cell_type": "markdown",
   "id": "f02af81b",
   "metadata": {},
   "source": [
    "# 2) Run the experiment"
   ]
  },
  {
   "cell_type": "code",
   "execution_count": 9,
   "id": "167fa11d",
   "metadata": {},
   "outputs": [
    {
     "name": "stdout",
     "output_type": "stream",
     "text": [
      "EXPERIMENT ID:  1671661823.1194313\n",
      "Training it= 1 cost-factor= 1\n"
     ]
    },
    {
     "ename": "AttributeError",
     "evalue": "module 'svmlight' has no attribute 'learn'",
     "output_type": "error",
     "traceback": [
      "\u001b[0;31m---------------------------------------------------------------------------\u001b[0m",
      "\u001b[0;31mAttributeError\u001b[0m                            Traceback (most recent call last)",
      "Cell \u001b[0;32mIn [9], line 1\u001b[0m\n\u001b[0;32m----> 1\u001b[0m train\u001b[38;5;241m.\u001b[39mstart()\n",
      "File \u001b[0;32m~/PycharmProjects/health-content-reliability/./source/train.py:480\u001b[0m, in \u001b[0;36mstart\u001b[0;34m(dataset, features, dump, standard)\u001b[0m\n\u001b[1;32m    476\u001b[0m test, val \u001b[38;5;241m=\u001b[39m adapt_to_svmlight_format(aux)\n\u001b[1;32m    478\u001b[0m \u001b[38;5;28mprint\u001b[39m(\u001b[38;5;124m\"\u001b[39m\u001b[38;5;124mTraining it=\u001b[39m\u001b[38;5;124m\"\u001b[39m, it, \u001b[38;5;124m\"\u001b[39m\u001b[38;5;124mcost-factor=\u001b[39m\u001b[38;5;124m\"\u001b[39m, cost_factor\u001b[38;5;241m+\u001b[39m\u001b[38;5;241m1\u001b[39m)\n\u001b[0;32m--> 480\u001b[0m model \u001b[38;5;241m=\u001b[39m \u001b[43msvmlight\u001b[49m\u001b[38;5;241;43m.\u001b[39;49m\u001b[43mlearn\u001b[49m(\u001b[38;5;28mlist\u001b[39m(train), \u001b[38;5;28mtype\u001b[39m\u001b[38;5;241m=\u001b[39m\u001b[38;5;124m'\u001b[39m\u001b[38;5;124mclassification\u001b[39m\u001b[38;5;124m'\u001b[39m, verbosity\u001b[38;5;241m=\u001b[39m\u001b[38;5;241m0\u001b[39m, costratio\u001b[38;5;241m=\u001b[39mcost_factor\u001b[38;5;241m+\u001b[39m\u001b[38;5;241m1\u001b[39m) \u001b[38;5;66;03m## costratio = cost-factor\u001b[39;00m\n\u001b[1;32m    482\u001b[0m \u001b[38;5;28;01mif\u001b[39;00m dump \u001b[38;5;241m==\u001b[39m \u001b[38;5;124m\"\u001b[39m\u001b[38;5;124myes\u001b[39m\u001b[38;5;124m\"\u001b[39m:\n\u001b[1;32m    483\u001b[0m         svmlight\u001b[38;5;241m.\u001b[39mwrite_model(model, \u001b[38;5;124m\"\u001b[39m\u001b[38;5;124mmodels/model_\u001b[39m\u001b[38;5;124m\"\u001b[39m\u001b[38;5;241m+\u001b[39mdataset\u001b[38;5;241m+\u001b[39m\u001b[38;5;124m\"\u001b[39m\u001b[38;5;124m_\u001b[39m\u001b[38;5;124m\"\u001b[39m\u001b[38;5;241m+\u001b[39mfeatures\u001b[38;5;241m+\u001b[39m\u001b[38;5;124m\"\u001b[39m\u001b[38;5;124m_it\u001b[39m\u001b[38;5;124m\"\u001b[39m\u001b[38;5;241m+\u001b[39m\u001b[38;5;28mstr\u001b[39m(it)\u001b[38;5;241m+\u001b[39m\u001b[38;5;124m\"\u001b[39m\u001b[38;5;124m_cost_fact\u001b[39m\u001b[38;5;124m\"\u001b[39m\u001b[38;5;241m+\u001b[39m\u001b[38;5;28mstr\u001b[39m(cost_factor\u001b[38;5;241m+\u001b[39m\u001b[38;5;241m1\u001b[39m)\u001b[38;5;241m+\u001b[39m\u001b[38;5;124m\"\u001b[39m\u001b[38;5;124m_\u001b[39m\u001b[38;5;124m\"\u001b[39m\u001b[38;5;241m+\u001b[39mts\u001b[38;5;241m+\u001b[39m\u001b[38;5;124m\"\u001b[39m\u001b[38;5;124m.dat\u001b[39m\u001b[38;5;124m\"\u001b[39m)\n",
      "\u001b[0;31mAttributeError\u001b[0m: module 'svmlight' has no attribute 'learn'"
     ]
    }
   ],
   "source": [
    "train.start()"
   ]
  },
  {
   "cell_type": "code",
   "execution_count": null,
   "id": "67dcc08a",
   "metadata": {},
   "outputs": [],
   "source": []
  }
 ],
 "metadata": {
  "kernelspec": {
   "display_name": "Python 3 (ipykernel)",
   "language": "python",
   "name": "python3"
  },
  "language_info": {
   "codemirror_mode": {
    "name": "ipython",
    "version": 3
   },
   "file_extension": ".py",
   "mimetype": "text/x-python",
   "name": "python",
   "nbconvert_exporter": "python",
   "pygments_lexer": "ipython3",
   "version": "3.10.6"
  }
 },
 "nbformat": 4,
 "nbformat_minor": 5
}
